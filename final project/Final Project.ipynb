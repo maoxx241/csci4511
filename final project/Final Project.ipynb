{
 "cells": [
  {
   "cell_type": "markdown",
   "metadata": {},
   "source": [
    "<font color=\"#483D8B\">\n",
    "<h1  align=\"center\">Predict the type of crime</h1>\n",
    "<h2 align=\"center\">\n",
    "CSCI4511</h2>\n",
    "<h3 align=\"center\">\n",
    "Qi Mao, Haowen Luo</h3>\n",
    "</font>"
   ]
  },
  {
   "cell_type": "markdown",
   "metadata": {},
   "source": [
    "<h4>\n",
    "The URL of the data:<br>\n",
    "https://catalog.data.gov/dataset/crimes-2001-to-present-398a4\n",
    "</h4>"
   ]
  },
  {
   "cell_type": "markdown",
   "metadata": {},
   "source": [
    "<font >\n",
    "<h4 align=\"center\">\n",
    "Exploratory Data Analysis</h4>\n",
    "</font>"
   ]
  },
  {
   "cell_type": "code",
   "execution_count": 1,
   "metadata": {},
   "outputs": [],
   "source": [
    "import pandas as pd\n",
    "import numpy as np\n",
    "import matplotlib.pyplot as plt\n",
    "df=pd.read_csv('C:\\CSCI4511\\Crimes_-_2001_to_present.csv', index_col='Date')"
   ]
  },
  {
   "cell_type": "code",
   "execution_count": 2,
   "metadata": {},
   "outputs": [
    {
     "name": "stdout",
     "output_type": "stream",
     "text": [
      "(6857720, 29)\n",
      "['ID', 'Case Number', 'Block', 'IUCR', 'Primary Type', 'Description', 'Location Description', 'Arrest', 'Domestic', 'Beat', 'District', 'Ward', 'Community Area', 'FBI Code', 'X Coordinate', 'Y Coordinate', 'Year', 'Updated On', 'Latitude', 'Longitude', 'Location', 'Historical Wards 2003-2015', 'Zip Codes', 'Community Areas', 'Census Tracts', 'Wards', 'Boundaries - ZIP Codes', 'Police Districts', 'Police Beats']\n"
     ]
    }
   ],
   "source": [
    "print(df.shape)\n",
    "print(list(df.columns))"
   ]
  },
  {
   "cell_type": "code",
   "execution_count": 3,
   "metadata": {},
   "outputs": [
    {
     "data": {
      "text/html": [
       "<div>\n",
       "<style scoped>\n",
       "    .dataframe tbody tr th:only-of-type {\n",
       "        vertical-align: middle;\n",
       "    }\n",
       "\n",
       "    .dataframe tbody tr th {\n",
       "        vertical-align: top;\n",
       "    }\n",
       "\n",
       "    .dataframe thead th {\n",
       "        text-align: right;\n",
       "    }\n",
       "</style>\n",
       "<table border=\"1\" class=\"dataframe\">\n",
       "  <thead>\n",
       "    <tr style=\"text-align: right;\">\n",
       "      <th></th>\n",
       "      <th>ID</th>\n",
       "      <th>Case Number</th>\n",
       "      <th>Block</th>\n",
       "      <th>IUCR</th>\n",
       "      <th>Primary Type</th>\n",
       "      <th>Description</th>\n",
       "      <th>Location Description</th>\n",
       "      <th>Arrest</th>\n",
       "      <th>Domestic</th>\n",
       "      <th>Beat</th>\n",
       "      <th>...</th>\n",
       "      <th>Longitude</th>\n",
       "      <th>Location</th>\n",
       "      <th>Historical Wards 2003-2015</th>\n",
       "      <th>Zip Codes</th>\n",
       "      <th>Community Areas</th>\n",
       "      <th>Census Tracts</th>\n",
       "      <th>Wards</th>\n",
       "      <th>Boundaries - ZIP Codes</th>\n",
       "      <th>Police Districts</th>\n",
       "      <th>Police Beats</th>\n",
       "    </tr>\n",
       "    <tr>\n",
       "      <th>Date</th>\n",
       "      <th></th>\n",
       "      <th></th>\n",
       "      <th></th>\n",
       "      <th></th>\n",
       "      <th></th>\n",
       "      <th></th>\n",
       "      <th></th>\n",
       "      <th></th>\n",
       "      <th></th>\n",
       "      <th></th>\n",
       "      <th></th>\n",
       "      <th></th>\n",
       "      <th></th>\n",
       "      <th></th>\n",
       "      <th></th>\n",
       "      <th></th>\n",
       "      <th></th>\n",
       "      <th></th>\n",
       "      <th></th>\n",
       "      <th></th>\n",
       "      <th></th>\n",
       "    </tr>\n",
       "  </thead>\n",
       "  <tbody>\n",
       "    <tr>\n",
       "      <th>04/24/2019 11:59:00 PM</th>\n",
       "      <td>11667646</td>\n",
       "      <td>JC239274</td>\n",
       "      <td>079XX S GREEN ST</td>\n",
       "      <td>0820</td>\n",
       "      <td>THEFT</td>\n",
       "      <td>$500 AND UNDER</td>\n",
       "      <td>RESIDENTIAL YARD (FRONT/BACK)</td>\n",
       "      <td>False</td>\n",
       "      <td>False</td>\n",
       "      <td>621</td>\n",
       "      <td>...</td>\n",
       "      <td>-87.645237</td>\n",
       "      <td>(41.750019761, -87.645237392)</td>\n",
       "      <td>17.0</td>\n",
       "      <td>21554.0</td>\n",
       "      <td>70.0</td>\n",
       "      <td>487.0</td>\n",
       "      <td>31.0</td>\n",
       "      <td>59.0</td>\n",
       "      <td>20.0</td>\n",
       "      <td>229.0</td>\n",
       "    </tr>\n",
       "    <tr>\n",
       "      <th>04/24/2019 11:57:00 PM</th>\n",
       "      <td>11666023</td>\n",
       "      <td>JC237334</td>\n",
       "      <td>075XX S DR MARTIN LUTHER KING JR DR</td>\n",
       "      <td>5121</td>\n",
       "      <td>OTHER OFFENSE</td>\n",
       "      <td>ARSONIST: ANNUAL REGISTRATION</td>\n",
       "      <td>STREET</td>\n",
       "      <td>False</td>\n",
       "      <td>False</td>\n",
       "      <td>623</td>\n",
       "      <td>...</td>\n",
       "      <td>-87.615113</td>\n",
       "      <td>(41.757950303, -87.615113401)</td>\n",
       "      <td>31.0</td>\n",
       "      <td>21546.0</td>\n",
       "      <td>67.0</td>\n",
       "      <td>496.0</td>\n",
       "      <td>32.0</td>\n",
       "      <td>61.0</td>\n",
       "      <td>20.0</td>\n",
       "      <td>227.0</td>\n",
       "    </tr>\n",
       "    <tr>\n",
       "      <th>04/24/2019 11:55:00 PM</th>\n",
       "      <td>11666007</td>\n",
       "      <td>JC237309</td>\n",
       "      <td>016XX S AVERS AVE</td>\n",
       "      <td>0820</td>\n",
       "      <td>THEFT</td>\n",
       "      <td>$500 AND UNDER</td>\n",
       "      <td>APARTMENT</td>\n",
       "      <td>False</td>\n",
       "      <td>True</td>\n",
       "      <td>1014</td>\n",
       "      <td>...</td>\n",
       "      <td>-87.721182</td>\n",
       "      <td>(41.858072085, -87.721182424)</td>\n",
       "      <td>36.0</td>\n",
       "      <td>21569.0</td>\n",
       "      <td>30.0</td>\n",
       "      <td>752.0</td>\n",
       "      <td>14.0</td>\n",
       "      <td>57.0</td>\n",
       "      <td>21.0</td>\n",
       "      <td>156.0</td>\n",
       "    </tr>\n",
       "    <tr>\n",
       "      <th>04/24/2019 11:53:00 PM</th>\n",
       "      <td>11666631</td>\n",
       "      <td>JC238179</td>\n",
       "      <td>039XX W DIVISION ST</td>\n",
       "      <td>0860</td>\n",
       "      <td>THEFT</td>\n",
       "      <td>RETAIL THEFT</td>\n",
       "      <td>GAS STATION</td>\n",
       "      <td>False</td>\n",
       "      <td>False</td>\n",
       "      <td>2535</td>\n",
       "      <td>...</td>\n",
       "      <td>-87.725602</td>\n",
       "      <td>(41.902678618, -87.725601735)</td>\n",
       "      <td>41.0</td>\n",
       "      <td>4299.0</td>\n",
       "      <td>24.0</td>\n",
       "      <td>456.0</td>\n",
       "      <td>45.0</td>\n",
       "      <td>5.0</td>\n",
       "      <td>16.0</td>\n",
       "      <td>66.0</td>\n",
       "    </tr>\n",
       "    <tr>\n",
       "      <th>04/24/2019 11:51:00 PM</th>\n",
       "      <td>11666042</td>\n",
       "      <td>JC237300</td>\n",
       "      <td>002XX W 109TH PL</td>\n",
       "      <td>0265</td>\n",
       "      <td>CRIM SEXUAL ASSAULT</td>\n",
       "      <td>AGGRAVATED: OTHER</td>\n",
       "      <td>RESIDENCE</td>\n",
       "      <td>False</td>\n",
       "      <td>True</td>\n",
       "      <td>513</td>\n",
       "      <td>...</td>\n",
       "      <td>-87.628792</td>\n",
       "      <td>(41.695250549, -87.628791598)</td>\n",
       "      <td>45.0</td>\n",
       "      <td>21861.0</td>\n",
       "      <td>45.0</td>\n",
       "      <td>524.0</td>\n",
       "      <td>22.0</td>\n",
       "      <td>19.0</td>\n",
       "      <td>10.0</td>\n",
       "      <td>260.0</td>\n",
       "    </tr>\n",
       "  </tbody>\n",
       "</table>\n",
       "<p>5 rows × 29 columns</p>\n",
       "</div>"
      ],
      "text/plain": [
       "                              ID Case Number  \\\n",
       "Date                                           \n",
       "04/24/2019 11:59:00 PM  11667646    JC239274   \n",
       "04/24/2019 11:57:00 PM  11666023    JC237334   \n",
       "04/24/2019 11:55:00 PM  11666007    JC237309   \n",
       "04/24/2019 11:53:00 PM  11666631    JC238179   \n",
       "04/24/2019 11:51:00 PM  11666042    JC237300   \n",
       "\n",
       "                                                      Block  IUCR  \\\n",
       "Date                                                                \n",
       "04/24/2019 11:59:00 PM                     079XX S GREEN ST  0820   \n",
       "04/24/2019 11:57:00 PM  075XX S DR MARTIN LUTHER KING JR DR  5121   \n",
       "04/24/2019 11:55:00 PM                    016XX S AVERS AVE  0820   \n",
       "04/24/2019 11:53:00 PM                  039XX W DIVISION ST  0860   \n",
       "04/24/2019 11:51:00 PM                     002XX W 109TH PL  0265   \n",
       "\n",
       "                               Primary Type                    Description  \\\n",
       "Date                                                                         \n",
       "04/24/2019 11:59:00 PM                THEFT                 $500 AND UNDER   \n",
       "04/24/2019 11:57:00 PM        OTHER OFFENSE  ARSONIST: ANNUAL REGISTRATION   \n",
       "04/24/2019 11:55:00 PM                THEFT                 $500 AND UNDER   \n",
       "04/24/2019 11:53:00 PM                THEFT                   RETAIL THEFT   \n",
       "04/24/2019 11:51:00 PM  CRIM SEXUAL ASSAULT              AGGRAVATED: OTHER   \n",
       "\n",
       "                                 Location Description  Arrest  Domestic  Beat  \\\n",
       "Date                                                                            \n",
       "04/24/2019 11:59:00 PM  RESIDENTIAL YARD (FRONT/BACK)   False     False   621   \n",
       "04/24/2019 11:57:00 PM                         STREET   False     False   623   \n",
       "04/24/2019 11:55:00 PM                      APARTMENT   False      True  1014   \n",
       "04/24/2019 11:53:00 PM                    GAS STATION   False     False  2535   \n",
       "04/24/2019 11:51:00 PM                      RESIDENCE   False      True   513   \n",
       "\n",
       "                            ...       Longitude  \\\n",
       "Date                        ...                   \n",
       "04/24/2019 11:59:00 PM      ...      -87.645237   \n",
       "04/24/2019 11:57:00 PM      ...      -87.615113   \n",
       "04/24/2019 11:55:00 PM      ...      -87.721182   \n",
       "04/24/2019 11:53:00 PM      ...      -87.725602   \n",
       "04/24/2019 11:51:00 PM      ...      -87.628792   \n",
       "\n",
       "                                             Location  \\\n",
       "Date                                                    \n",
       "04/24/2019 11:59:00 PM  (41.750019761, -87.645237392)   \n",
       "04/24/2019 11:57:00 PM  (41.757950303, -87.615113401)   \n",
       "04/24/2019 11:55:00 PM  (41.858072085, -87.721182424)   \n",
       "04/24/2019 11:53:00 PM  (41.902678618, -87.725601735)   \n",
       "04/24/2019 11:51:00 PM  (41.695250549, -87.628791598)   \n",
       "\n",
       "                        Historical Wards 2003-2015 Zip Codes  Community Areas  \\\n",
       "Date                                                                            \n",
       "04/24/2019 11:59:00 PM                        17.0   21554.0             70.0   \n",
       "04/24/2019 11:57:00 PM                        31.0   21546.0             67.0   \n",
       "04/24/2019 11:55:00 PM                        36.0   21569.0             30.0   \n",
       "04/24/2019 11:53:00 PM                        41.0    4299.0             24.0   \n",
       "04/24/2019 11:51:00 PM                        45.0   21861.0             45.0   \n",
       "\n",
       "                        Census Tracts  Wards Boundaries - ZIP Codes  \\\n",
       "Date                                                                  \n",
       "04/24/2019 11:59:00 PM          487.0   31.0                   59.0   \n",
       "04/24/2019 11:57:00 PM          496.0   32.0                   61.0   \n",
       "04/24/2019 11:55:00 PM          752.0   14.0                   57.0   \n",
       "04/24/2019 11:53:00 PM          456.0   45.0                    5.0   \n",
       "04/24/2019 11:51:00 PM          524.0   22.0                   19.0   \n",
       "\n",
       "                        Police Districts  Police Beats  \n",
       "Date                                                    \n",
       "04/24/2019 11:59:00 PM              20.0         229.0  \n",
       "04/24/2019 11:57:00 PM              20.0         227.0  \n",
       "04/24/2019 11:55:00 PM              21.0         156.0  \n",
       "04/24/2019 11:53:00 PM              16.0          66.0  \n",
       "04/24/2019 11:51:00 PM              10.0         260.0  \n",
       "\n",
       "[5 rows x 29 columns]"
      ]
     },
     "execution_count": 3,
     "metadata": {},
     "output_type": "execute_result"
    }
   ],
   "source": [
    "df.head()"
   ]
  },
  {
   "cell_type": "markdown",
   "metadata": {},
   "source": [
    "<h4>Top 11 crime type</h4>"
   ]
  },
  {
   "cell_type": "code",
   "execution_count": 4,
   "metadata": {},
   "outputs": [],
   "source": [
    "df.index = pd.to_datetime(df.index)"
   ]
  },
  {
   "cell_type": "code",
   "execution_count": 5,
   "metadata": {},
   "outputs": [],
   "source": [
    "crimes=df.loc['2018':,:]"
   ]
  },
  {
   "cell_type": "code",
   "execution_count": 6,
   "metadata": {},
   "outputs": [
    {
     "data": {
      "text/plain": [
       "(6518297, 29)"
      ]
     },
     "execution_count": 6,
     "metadata": {},
     "output_type": "execute_result"
    }
   ],
   "source": [
    "crimes.shape"
   ]
  },
  {
   "cell_type": "code",
   "execution_count": 7,
   "metadata": {},
   "outputs": [
    {
     "data": {
      "image/png": "[encoded data removed]",
      "text/plain": [
       "<matplotlib.figure.Figure at 0x1f30141eac8>"
      ]
     },
     "metadata": {},
     "output_type": "display_data"
    }
   ],
   "source": [
    "crimetype_count = pd.DataFrame(crimes[['Primary Type']].groupby('Primary Type').size().sort_values(ascending=False).rename('counts').reset_index())\n",
    "plt.scatter(crimetype_count['counts'][:11],crimetype_count['Primary Type'][:11])\n",
    "plt.show()"
   ]
  },
  {
   "cell_type": "markdown",
   "metadata": {},
   "source": [
    "We can see that from 2001 to 2018 the main types of crime are theft and battery"
   ]
  },
  {
   "cell_type": "code",
   "execution_count": 8,
   "metadata": {},
   "outputs": [
    {
     "data": {
      "image/png": "[encoded data removed]",
      "text/plain": [
       "<matplotlib.figure.Figure at 0x1f30169ada0>"
      ]
     },
     "metadata": {},
     "output_type": "display_data"
    }
   ],
   "source": [
    "Trend=pd.DataFrame(crimes[crimes['Primary Type'].isin(['THEFT','BATTERY'])]['Primary Type'])\n",
    "(Trend.groupby([pd.Grouper(freq='A'), 'Primary Type']))['Primary Type'].count().unstack().plot()\n",
    "plt.title(\"Crimes Trend\")\n",
    "plt.show()"
   ]
  },
  {
   "cell_type": "markdown",
   "metadata": {},
   "source": [
    "<font >\n",
    "<h4 align=\"center\">\n",
    "Clean up the data and Models</h4>\n",
    "</font>"
   ]
  },
  {
   "cell_type": "markdown",
   "metadata": {},
   "source": [
    "In this section, I explore the connection of the location factor to the type of crime. So I chose to leave three factors of longitude, latitude and location."
   ]
  },
  {
   "cell_type": "markdown",
   "metadata": {},
   "source": [
    "First throw away other crime type and extremely rare locations"
   ]
  },
  {
   "cell_type": "code",
   "execution_count": 9,
   "metadata": {},
   "outputs": [],
   "source": [
    "crimes = pd.read_csv('C:\\CSCI4511\\Crimes_-_2001_to_present.csv',error_bad_lines=False)\n",
    "types=crimes.groupby('Primary Type')['Primary Type'].count()\n",
    "types.sort_values(ascending=False, inplace=True)\n",
    "clist=types.index.values[0:2].tolist()\n",
    "crimes=crimes[crimes[\"Primary Type\"].isin(clist)]\n",
    "\n",
    "types=crimes.groupby('Location Description')['Location Description'].count()\n",
    "types.sort_values(ascending=False, inplace=True)\n",
    "clist=types.index.values[0:30].tolist()\n",
    "crimes=crimes[crimes['Location Description'].isin(clist)]\n"
   ]
  },
  {
   "cell_type": "markdown",
   "metadata": {},
   "source": [
    "make a new column named Theft. give theft an indicator variable 1 and give battery an indicator variable 0"
   ]
  },
  {
   "cell_type": "code",
   "execution_count": 10,
   "metadata": {},
   "outputs": [],
   "source": [
    "theft=['THEFT']\n",
    "crimes['Theft']=np.where(crimes['Primary Type'].isin(theft), 1, 0)"
   ]
  },
  {
   "cell_type": "markdown",
   "metadata": {},
   "source": [
    "drop other column, only leave Theft, Latitude, Longitude, and Location Description."
   ]
  },
  {
   "cell_type": "code",
   "execution_count": 11,
   "metadata": {},
   "outputs": [
    {
     "data": {
      "text/html": [
       "<div>\n",
       "<style scoped>\n",
       "    .dataframe tbody tr th:only-of-type {\n",
       "        vertical-align: middle;\n",
       "    }\n",
       "\n",
       "    .dataframe tbody tr th {\n",
       "        vertical-align: top;\n",
       "    }\n",
       "\n",
       "    .dataframe thead th {\n",
       "        text-align: right;\n",
       "    }\n",
       "</style>\n",
       "<table border=\"1\" class=\"dataframe\">\n",
       "  <thead>\n",
       "    <tr style=\"text-align: right;\">\n",
       "      <th></th>\n",
       "      <th>Theft</th>\n",
       "      <th>Location Description</th>\n",
       "      <th>Latitude</th>\n",
       "      <th>Longitude</th>\n",
       "    </tr>\n",
       "  </thead>\n",
       "  <tbody>\n",
       "    <tr>\n",
       "      <th>0</th>\n",
       "      <td>1</td>\n",
       "      <td>RESIDENTIAL YARD (FRONT/BACK)</td>\n",
       "      <td>41.750020</td>\n",
       "      <td>-87.645237</td>\n",
       "    </tr>\n",
       "    <tr>\n",
       "      <th>2</th>\n",
       "      <td>1</td>\n",
       "      <td>APARTMENT</td>\n",
       "      <td>41.858072</td>\n",
       "      <td>-87.721182</td>\n",
       "    </tr>\n",
       "    <tr>\n",
       "      <th>3</th>\n",
       "      <td>1</td>\n",
       "      <td>GAS STATION</td>\n",
       "      <td>41.902679</td>\n",
       "      <td>-87.725602</td>\n",
       "    </tr>\n",
       "    <tr>\n",
       "      <th>7</th>\n",
       "      <td>0</td>\n",
       "      <td>SIDEWALK</td>\n",
       "      <td>41.903723</td>\n",
       "      <td>-87.709998</td>\n",
       "    </tr>\n",
       "    <tr>\n",
       "      <th>8</th>\n",
       "      <td>1</td>\n",
       "      <td>APARTMENT</td>\n",
       "      <td>41.913810</td>\n",
       "      <td>-87.782344</td>\n",
       "    </tr>\n",
       "  </tbody>\n",
       "</table>\n",
       "</div>"
      ],
      "text/plain": [
       "   Theft           Location Description   Latitude  Longitude\n",
       "0      1  RESIDENTIAL YARD (FRONT/BACK)  41.750020 -87.645237\n",
       "2      1                      APARTMENT  41.858072 -87.721182\n",
       "3      1                    GAS STATION  41.902679 -87.725602\n",
       "7      0                       SIDEWALK  41.903723 -87.709998\n",
       "8      1                      APARTMENT  41.913810 -87.782344"
      ]
     },
     "execution_count": 11,
     "metadata": {},
     "output_type": "execute_result"
    }
   ],
   "source": [
    "crimes = crimes[[ 'Theft', 'Location Description', 'Latitude','Longitude']]\n",
    "crimes.head()"
   ]
  },
  {
   "cell_type": "markdown",
   "metadata": {},
   "source": [
    "I use the get_dummies method to to convert the location data into dummy variable. and drop the NA data."
   ]
  },
  {
   "cell_type": "code",
   "execution_count": 12,
   "metadata": {},
   "outputs": [
    {
     "data": {
      "text/html": [
       "<div>\n",
       "<style scoped>\n",
       "    .dataframe tbody tr th:only-of-type {\n",
       "        vertical-align: middle;\n",
       "    }\n",
       "\n",
       "    .dataframe tbody tr th {\n",
       "        vertical-align: top;\n",
       "    }\n",
       "\n",
       "    .dataframe thead th {\n",
       "        text-align: right;\n",
       "    }\n",
       "</style>\n",
       "<table border=\"1\" class=\"dataframe\">\n",
       "  <thead>\n",
       "    <tr style=\"text-align: right;\">\n",
       "      <th></th>\n",
       "      <th>Location Description</th>\n",
       "      <th>Latitude</th>\n",
       "      <th>Longitude</th>\n",
       "    </tr>\n",
       "    <tr>\n",
       "      <th>Theft</th>\n",
       "      <th></th>\n",
       "      <th></th>\n",
       "      <th></th>\n",
       "    </tr>\n",
       "  </thead>\n",
       "  <tbody>\n",
       "    <tr>\n",
       "      <th>0</th>\n",
       "      <td>1211112</td>\n",
       "      <td>1205758</td>\n",
       "      <td>1205758</td>\n",
       "    </tr>\n",
       "    <tr>\n",
       "      <th>1</th>\n",
       "      <td>1340394</td>\n",
       "      <td>1325789</td>\n",
       "      <td>1325789</td>\n",
       "    </tr>\n",
       "  </tbody>\n",
       "</table>\n",
       "</div>"
      ],
      "text/plain": [
       "       Location Description  Latitude  Longitude\n",
       "Theft                                           \n",
       "0                   1211112   1205758    1205758\n",
       "1                   1340394   1325789    1325789"
      ]
     },
     "execution_count": 12,
     "metadata": {},
     "output_type": "execute_result"
    }
   ],
   "source": [
    "crimes.groupby('Theft').count()"
   ]
  },
  {
   "cell_type": "markdown",
   "metadata": {},
   "source": [
    "<h4>Baseline model</h4>"
   ]
  },
  {
   "cell_type": "code",
   "execution_count": 13,
   "metadata": {},
   "outputs": [
    {
     "name": "stdout",
     "output_type": "stream",
     "text": [
      "0.5253344495368618\n",
      "0.47466555046313824\n"
     ]
    }
   ],
   "source": [
    "positive=crimes[crimes['Theft'] == 1 ]\n",
    "negative=crimes[crimes['Theft'] == 0 ]\n",
    "print(float(len(positive))/len(crimes))\n",
    "print(float(len(negative))/len(crimes))"
   ]
  },
  {
   "cell_type": "code",
   "execution_count": 14,
   "metadata": {},
   "outputs": [],
   "source": [
    "crimes=crimes.dropna()"
   ]
  },
  {
   "cell_type": "code",
   "execution_count": 15,
   "metadata": {},
   "outputs": [],
   "source": [
    "crimes=crimes[crimes[\"Location Description\"]!=\"OTHER\"]\n",
    "crimes=pd.get_dummies(crimes,columns=[\"Location Description\"])\n",
    "crimes=crimes[pd.isna(crimes[\"Latitude\"])==False]"
   ]
  },
  {
   "cell_type": "code",
   "execution_count": 16,
   "metadata": {},
   "outputs": [
    {
     "data": {
      "text/html": [
       "<div>\n",
       "<style scoped>\n",
       "    .dataframe tbody tr th:only-of-type {\n",
       "        vertical-align: middle;\n",
       "    }\n",
       "\n",
       "    .dataframe tbody tr th {\n",
       "        vertical-align: top;\n",
       "    }\n",
       "\n",
       "    .dataframe thead th {\n",
       "        text-align: right;\n",
       "    }\n",
       "</style>\n",
       "<table border=\"1\" class=\"dataframe\">\n",
       "  <thead>\n",
       "    <tr style=\"text-align: right;\">\n",
       "      <th></th>\n",
       "      <th>Theft</th>\n",
       "      <th>Latitude</th>\n",
       "      <th>Longitude</th>\n",
       "      <th>Location Description_ALLEY</th>\n",
       "      <th>Location Description_APARTMENT</th>\n",
       "      <th>Location Description_BAR OR TAVERN</th>\n",
       "      <th>Location Description_CHA APARTMENT</th>\n",
       "      <th>Location Description_CHA PARKING LOT/GROUNDS</th>\n",
       "      <th>Location Description_COMMERCIAL / BUSINESS OFFICE</th>\n",
       "      <th>Location Description_CTA BUS</th>\n",
       "      <th>...</th>\n",
       "      <th>Location Description_RESIDENCE-GARAGE</th>\n",
       "      <th>Location Description_RESIDENTIAL YARD (FRONT/BACK)</th>\n",
       "      <th>Location Description_RESTAURANT</th>\n",
       "      <th>Location Description_SCHOOL, PUBLIC, BUILDING</th>\n",
       "      <th>Location Description_SCHOOL, PUBLIC, GROUNDS</th>\n",
       "      <th>Location Description_SIDEWALK</th>\n",
       "      <th>Location Description_SMALL RETAIL STORE</th>\n",
       "      <th>Location Description_STREET</th>\n",
       "      <th>Location Description_TAVERN/LIQUOR STORE</th>\n",
       "      <th>Location Description_VEHICLE NON-COMMERCIAL</th>\n",
       "    </tr>\n",
       "  </thead>\n",
       "  <tbody>\n",
       "    <tr>\n",
       "      <th>0</th>\n",
       "      <td>1</td>\n",
       "      <td>41.750020</td>\n",
       "      <td>-87.645237</td>\n",
       "      <td>0</td>\n",
       "      <td>0</td>\n",
       "      <td>0</td>\n",
       "      <td>0</td>\n",
       "      <td>0</td>\n",
       "      <td>0</td>\n",
       "      <td>0</td>\n",
       "      <td>...</td>\n",
       "      <td>0</td>\n",
       "      <td>1</td>\n",
       "      <td>0</td>\n",
       "      <td>0</td>\n",
       "      <td>0</td>\n",
       "      <td>0</td>\n",
       "      <td>0</td>\n",
       "      <td>0</td>\n",
       "      <td>0</td>\n",
       "      <td>0</td>\n",
       "    </tr>\n",
       "    <tr>\n",
       "      <th>2</th>\n",
       "      <td>1</td>\n",
       "      <td>41.858072</td>\n",
       "      <td>-87.721182</td>\n",
       "      <td>0</td>\n",
       "      <td>1</td>\n",
       "      <td>0</td>\n",
       "      <td>0</td>\n",
       "      <td>0</td>\n",
       "      <td>0</td>\n",
       "      <td>0</td>\n",
       "      <td>...</td>\n",
       "      <td>0</td>\n",
       "      <td>0</td>\n",
       "      <td>0</td>\n",
       "      <td>0</td>\n",
       "      <td>0</td>\n",
       "      <td>0</td>\n",
       "      <td>0</td>\n",
       "      <td>0</td>\n",
       "      <td>0</td>\n",
       "      <td>0</td>\n",
       "    </tr>\n",
       "    <tr>\n",
       "      <th>3</th>\n",
       "      <td>1</td>\n",
       "      <td>41.902679</td>\n",
       "      <td>-87.725602</td>\n",
       "      <td>0</td>\n",
       "      <td>0</td>\n",
       "      <td>0</td>\n",
       "      <td>0</td>\n",
       "      <td>0</td>\n",
       "      <td>0</td>\n",
       "      <td>0</td>\n",
       "      <td>...</td>\n",
       "      <td>0</td>\n",
       "      <td>0</td>\n",
       "      <td>0</td>\n",
       "      <td>0</td>\n",
       "      <td>0</td>\n",
       "      <td>0</td>\n",
       "      <td>0</td>\n",
       "      <td>0</td>\n",
       "      <td>0</td>\n",
       "      <td>0</td>\n",
       "    </tr>\n",
       "    <tr>\n",
       "      <th>7</th>\n",
       "      <td>0</td>\n",
       "      <td>41.903723</td>\n",
       "      <td>-87.709998</td>\n",
       "      <td>0</td>\n",
       "      <td>0</td>\n",
       "      <td>0</td>\n",
       "      <td>0</td>\n",
       "      <td>0</td>\n",
       "      <td>0</td>\n",
       "      <td>0</td>\n",
       "      <td>...</td>\n",
       "      <td>0</td>\n",
       "      <td>0</td>\n",
       "      <td>0</td>\n",
       "      <td>0</td>\n",
       "      <td>0</td>\n",
       "      <td>1</td>\n",
       "      <td>0</td>\n",
       "      <td>0</td>\n",
       "      <td>0</td>\n",
       "      <td>0</td>\n",
       "    </tr>\n",
       "    <tr>\n",
       "      <th>8</th>\n",
       "      <td>1</td>\n",
       "      <td>41.913810</td>\n",
       "      <td>-87.782344</td>\n",
       "      <td>0</td>\n",
       "      <td>1</td>\n",
       "      <td>0</td>\n",
       "      <td>0</td>\n",
       "      <td>0</td>\n",
       "      <td>0</td>\n",
       "      <td>0</td>\n",
       "      <td>...</td>\n",
       "      <td>0</td>\n",
       "      <td>0</td>\n",
       "      <td>0</td>\n",
       "      <td>0</td>\n",
       "      <td>0</td>\n",
       "      <td>0</td>\n",
       "      <td>0</td>\n",
       "      <td>0</td>\n",
       "      <td>0</td>\n",
       "      <td>0</td>\n",
       "    </tr>\n",
       "  </tbody>\n",
       "</table>\n",
       "<p>5 rows × 32 columns</p>\n",
       "</div>"
      ],
      "text/plain": [
       "   Theft   Latitude  Longitude  Location Description_ALLEY  \\\n",
       "0      1  41.750020 -87.645237                           0   \n",
       "2      1  41.858072 -87.721182                           0   \n",
       "3      1  41.902679 -87.725602                           0   \n",
       "7      0  41.903723 -87.709998                           0   \n",
       "8      1  41.913810 -87.782344                           0   \n",
       "\n",
       "   Location Description_APARTMENT  Location Description_BAR OR TAVERN  \\\n",
       "0                               0                                   0   \n",
       "2                               1                                   0   \n",
       "3                               0                                   0   \n",
       "7                               0                                   0   \n",
       "8                               1                                   0   \n",
       "\n",
       "   Location Description_CHA APARTMENT  \\\n",
       "0                                   0   \n",
       "2                                   0   \n",
       "3                                   0   \n",
       "7                                   0   \n",
       "8                                   0   \n",
       "\n",
       "   Location Description_CHA PARKING LOT/GROUNDS  \\\n",
       "0                                             0   \n",
       "2                                             0   \n",
       "3                                             0   \n",
       "7                                             0   \n",
       "8                                             0   \n",
       "\n",
       "   Location Description_COMMERCIAL / BUSINESS OFFICE  \\\n",
       "0                                                  0   \n",
       "2                                                  0   \n",
       "3                                                  0   \n",
       "7                                                  0   \n",
       "8                                                  0   \n",
       "\n",
       "   Location Description_CTA BUS                     ...                       \\\n",
       "0                             0                     ...                        \n",
       "2                             0                     ...                        \n",
       "3                             0                     ...                        \n",
       "7                             0                     ...                        \n",
       "8                             0                     ...                        \n",
       "\n",
       "   Location Description_RESIDENCE-GARAGE  \\\n",
       "0                                      0   \n",
       "2                                      0   \n",
       "3                                      0   \n",
       "7                                      0   \n",
       "8                                      0   \n",
       "\n",
       "   Location Description_RESIDENTIAL YARD (FRONT/BACK)  \\\n",
       "0                                                  1    \n",
       "2                                                  0    \n",
       "3                                                  0    \n",
       "7                                                  0    \n",
       "8                                                  0    \n",
       "\n",
       "   Location Description_RESTAURANT  \\\n",
       "0                                0   \n",
       "2                                0   \n",
       "3                                0   \n",
       "7                                0   \n",
       "8                                0   \n",
       "\n",
       "   Location Description_SCHOOL, PUBLIC, BUILDING  \\\n",
       "0                                              0   \n",
       "2                                              0   \n",
       "3                                              0   \n",
       "7                                              0   \n",
       "8                                              0   \n",
       "\n",
       "   Location Description_SCHOOL, PUBLIC, GROUNDS  \\\n",
       "0                                             0   \n",
       "2                                             0   \n",
       "3                                             0   \n",
       "7                                             0   \n",
       "8                                             0   \n",
       "\n",
       "   Location Description_SIDEWALK  Location Description_SMALL RETAIL STORE  \\\n",
       "0                              0                                        0   \n",
       "2                              0                                        0   \n",
       "3                              0                                        0   \n",
       "7                              1                                        0   \n",
       "8                              0                                        0   \n",
       "\n",
       "   Location Description_STREET  Location Description_TAVERN/LIQUOR STORE  \\\n",
       "0                            0                                         0   \n",
       "2                            0                                         0   \n",
       "3                            0                                         0   \n",
       "7                            0                                         0   \n",
       "8                            0                                         0   \n",
       "\n",
       "   Location Description_VEHICLE NON-COMMERCIAL  \n",
       "0                                            0  \n",
       "2                                            0  \n",
       "3                                            0  \n",
       "7                                            0  \n",
       "8                                            0  \n",
       "\n",
       "[5 rows x 32 columns]"
      ]
     },
     "execution_count": 16,
     "metadata": {},
     "output_type": "execute_result"
    }
   ],
   "source": [
    "crimes.head()"
   ]
  },
  {
   "cell_type": "markdown",
   "metadata": {},
   "source": [
    "Split the train and test data."
   ]
  },
  {
   "cell_type": "code",
   "execution_count": 17,
   "metadata": {},
   "outputs": [],
   "source": [
    "train=crimes.sample(frac=0.7,random_state=200)\n",
    "test=crimes.drop(train.index)\n",
    "x_train = train.iloc[:,1:34]\n",
    "y_train = train['Theft']\n",
    "\n",
    "x_test = test.iloc[:,1:34]\n",
    "y_test = test['Theft']"
   ]
  },
  {
   "cell_type": "code",
   "execution_count": 18,
   "metadata": {},
   "outputs": [
    {
     "name": "stdout",
     "output_type": "stream",
     "text": [
      "0.5124422518048245\n",
      "0.4875577481951755\n"
     ]
    }
   ],
   "source": [
    "positive=y_test[y_test == 1 ]\n",
    "negative=y_test[y_test == 0 ]\n",
    "print(float(len(positive))/len(y_test))\n",
    "print(float(len(negative))/len(y_test))"
   ]
  },
  {
   "cell_type": "code",
   "execution_count": 19,
   "metadata": {},
   "outputs": [],
   "source": [
    "accuracy_dict={}"
   ]
  },
  {
   "cell_type": "markdown",
   "metadata": {},
   "source": [
    "<h4>Model 1: Random forest</h4>"
   ]
  },
  {
   "cell_type": "code",
   "execution_count": 20,
   "metadata": {},
   "outputs": [
    {
     "name": "stdout",
     "output_type": "stream",
     "text": [
      " mean accuracy: 0.73\n"
     ]
    }
   ],
   "source": [
    "from sklearn.ensemble import RandomForestClassifier\n",
    "rf = RandomForestClassifier()\n",
    "rf=rf.fit(x_train, y_train)\n",
    "accuracy_dict['Random Forest']=rf.score(x_test, y_test)\n",
    "print(' mean accuracy: %.2f' % rf.score(x_test, y_test))"
   ]
  },
  {
   "cell_type": "markdown",
   "metadata": {},
   "source": [
    "the feature importances"
   ]
  },
  {
   "cell_type": "code",
   "execution_count": 21,
   "metadata": {},
   "outputs": [
    {
     "data": {
      "text/plain": [
       "[('Latitude', 0.38127639810475056),\n",
       " ('Longitude', 0.321697634838097),\n",
       " ('Location Description_ALLEY', 0.004632263616299736),\n",
       " ('Location Description_APARTMENT', 0.06363255467620624),\n",
       " ('Location Description_BAR OR TAVERN', 0.0016974858378496712),\n",
       " ('Location Description_CHA APARTMENT', 0.005300787707455181),\n",
       " ('Location Description_CHA PARKING LOT/GROUNDS', 0.003943561577600833),\n",
       " ('Location Description_COMMERCIAL / BUSINESS OFFICE', 0.0038698410309401256),\n",
       " ('Location Description_CTA BUS', 0.000524145887139672),\n",
       " ('Location Description_CTA PLATFORM', 0.0003266041235288053),\n",
       " ('Location Description_CTA TRAIN', 0.0018513571156917607),\n",
       " ('Location Description_DEPARTMENT STORE', 0.026646249912929066),\n",
       " ('Location Description_DRUG STORE', 0.007582295891639853),\n",
       " ('Location Description_GAS STATION', 0.001990250465134697),\n",
       " ('Location Description_GROCERY FOOD STORE', 0.01518444347958682),\n",
       " ('Location Description_HOSPITAL BUILDING/GROUNDS', 0.0004873703682871331),\n",
       " ('Location Description_HOTEL/MOTEL', 0.0007018335109015494),\n",
       " ('Location Description_PARK PROPERTY', 0.00116594558859888),\n",
       " ('Location Description_PARKING LOT/GARAGE(NON.RESID.)', 0.012921851321813244),\n",
       " ('Location Description_RESIDENCE', 0.02519280288488292),\n",
       " ('Location Description_RESIDENCE PORCH/HALLWAY', 0.0038169129458581327),\n",
       " ('Location Description_RESIDENCE-GARAGE', 0.003518803359772743),\n",
       " ('Location Description_RESIDENTIAL YARD (FRONT/BACK)', 0.003029821010536756),\n",
       " ('Location Description_RESTAURANT', 0.0028296837755500976),\n",
       " ('Location Description_SCHOOL, PUBLIC, BUILDING', 0.0073520316338027344),\n",
       " ('Location Description_SCHOOL, PUBLIC, GROUNDS', 0.0029023006633357488),\n",
       " ('Location Description_SIDEWALK', 0.05458317150964568),\n",
       " ('Location Description_SMALL RETAIL STORE', 0.022719490092879897),\n",
       " ('Location Description_STREET', 0.014310752070232127),\n",
       " ('Location Description_TAVERN/LIQUOR STORE', 0.0004255341633632536),\n",
       " ('Location Description_VEHICLE NON-COMMERCIAL', 0.0038858208356889953)]"
      ]
     },
     "execution_count": 21,
     "metadata": {},
     "output_type": "execute_result"
    }
   ],
   "source": [
    "list(zip(x_test, rf.feature_importances_))"
   ]
  },
  {
   "cell_type": "markdown",
   "metadata": {},
   "source": [
    "confusion matrix"
   ]
  },
  {
   "cell_type": "code",
   "execution_count": 22,
   "metadata": {},
   "outputs": [
    {
     "name": "stdout",
     "output_type": "stream",
     "text": [
      "\n",
      "0 is BATTERY and 1 is theft\n",
      "\n",
      "\n",
      "Predicted        0       1\n",
      "Actual                    \n",
      "0           263206   91287\n",
      "1           108219  264367\n"
     ]
    }
   ],
   "source": [
    "preds = rf.predict(x_test)\n",
    "print('\\n0 is BATTERY and 1 is theft\\n\\n')\n",
    "print(pd.crosstab(y_test, preds, rownames=['Actual '], colnames=['Predicted ']))"
   ]
  },
  {
   "cell_type": "code",
   "execution_count": 23,
   "metadata": {
    "scrolled": true
   },
   "outputs": [
    {
     "name": "stdout",
     "output_type": "stream",
     "text": [
      "             precision    recall  f1-score   support\n",
      "\n",
      "          0       0.71      0.74      0.73    354493\n",
      "          1       0.74      0.71      0.73    372586\n",
      "\n",
      "avg / total       0.73      0.73      0.73    727079\n",
      "\n"
     ]
    }
   ],
   "source": [
    "from sklearn.metrics import classification_report\n",
    "print(classification_report(y_test, preds))"
   ]
  },
  {
   "cell_type": "code",
   "execution_count": 24,
   "metadata": {},
   "outputs": [
    {
     "data": {
      "image/png": "[encoded data removed]",
      "text/plain": [
       "<matplotlib.figure.Figure at 0x1f30166c0f0>"
      ]
     },
     "metadata": {},
     "output_type": "display_data"
    }
   ],
   "source": [
    "from sklearn.metrics import roc_auc_score\n",
    "from sklearn.metrics import roc_curve\n",
    "random_roc_auc = roc_auc_score(y_test, rf.predict(x_test))\n",
    "random_fpr, random_tpr, random_thresholds = roc_curve(y_test, rf.predict_proba(x_test)[:,1])\n",
    "plt.figure()\n",
    "plt.plot(random_fpr, random_tpr, label='Random forest (area = %0.2f)' % random_roc_auc)\n",
    "plt.plot([0, 1], [0, 1],'r--')\n",
    "plt.xlim([0.0, 1.0])\n",
    "plt.ylim([0.0, 1.05])\n",
    "plt.xlabel('False Positive Rate')\n",
    "plt.ylabel('True Positive Rate')\n",
    "plt.title('Receiver operating characteristic')\n",
    "plt.legend(loc=\"lower right\")\n",
    "plt.savefig('Log_ROC')\n",
    "plt.show()"
   ]
  },
  {
   "cell_type": "markdown",
   "metadata": {},
   "source": [
    "<h4>Model 2: Logistic regression</h4>"
   ]
  },
  {
   "cell_type": "code",
   "execution_count": 25,
   "metadata": {},
   "outputs": [
    {
     "name": "stdout",
     "output_type": "stream",
     "text": [
      "Accuracy of logistic regression classifier on test set: 0.73\n"
     ]
    }
   ],
   "source": [
    "from sklearn.linear_model import LogisticRegression\n",
    "lr =LogisticRegression()\n",
    "lr = lr.fit(x_train, y_train)\n",
    "y_pred = lr.predict(x_test)\n",
    "accuracy_dict['Logistic regression']=lr.score(x_test, y_test)\n",
    "print('Accuracy of logistic regression classifier on test set: {:.2f}'.format(lr.score(x_test, y_test)))"
   ]
  },
  {
   "cell_type": "code",
   "execution_count": 26,
   "metadata": {},
   "outputs": [
    {
     "name": "stdout",
     "output_type": "stream",
     "text": [
      "10-fold cross validation average accuracy: 0.725\n"
     ]
    }
   ],
   "source": [
    "from sklearn import model_selection\n",
    "from sklearn.model_selection import cross_val_score\n",
    "kfold = model_selection.KFold(n_splits=10, random_state=7)\n",
    "modelCV = LogisticRegression()\n",
    "scoring = 'accuracy'\n",
    "results = model_selection.cross_val_score(modelCV, x_train, y_train, cv=kfold, scoring=scoring)\n",
    "print(\"10-fold cross validation average accuracy: %.3f\" % (results.mean()))"
   ]
  },
  {
   "cell_type": "markdown",
   "metadata": {},
   "source": [
    "The average accuracy remains very close to the Logistic Regression model accuracy; hence, we can conclude that our model generalizes well."
   ]
  },
  {
   "cell_type": "markdown",
   "metadata": {},
   "source": [
    "confusion matrix"
   ]
  },
  {
   "cell_type": "code",
   "execution_count": 27,
   "metadata": {},
   "outputs": [
    {
     "name": "stdout",
     "output_type": "stream",
     "text": [
      "\n",
      "0 is BATTERY and 1 is theft\n",
      "\n",
      "\n",
      "Predicted        0       1\n",
      "Actual                    \n",
      "0           253738  100755\n",
      "1            98974  273612\n"
     ]
    }
   ],
   "source": [
    "print('\\n0 is BATTERY and 1 is theft\\n\\n')\n",
    "print(pd.crosstab(y_test, y_pred, rownames=['Actual '], colnames=['Predicted ']))"
   ]
  },
  {
   "cell_type": "code",
   "execution_count": 28,
   "metadata": {},
   "outputs": [
    {
     "name": "stdout",
     "output_type": "stream",
     "text": [
      "             precision    recall  f1-score   support\n",
      "\n",
      "          0       0.72      0.72      0.72    354493\n",
      "          1       0.73      0.73      0.73    372586\n",
      "\n",
      "avg / total       0.73      0.73      0.73    727079\n",
      "\n"
     ]
    }
   ],
   "source": [
    "from sklearn.metrics import classification_report\n",
    "print(classification_report(y_test, y_pred))"
   ]
  },
  {
   "cell_type": "code",
   "execution_count": 29,
   "metadata": {},
   "outputs": [
    {
     "data": {
      "image/png": "[encoded data removed]",
      "text/plain": [
       "<matplotlib.figure.Figure at 0x1f3fd1484a8>"
      ]
     },
     "metadata": {},
     "output_type": "display_data"
    }
   ],
   "source": [
    "from sklearn.metrics import roc_auc_score\n",
    "from sklearn.metrics import roc_curve\n",
    "logit_roc_auc = roc_auc_score(y_test, lr.predict(x_test))\n",
    "logit_fpr, logit_tpr, logit_thresholds = roc_curve(y_test, lr.predict_proba(x_test)[:,1])\n",
    "plt.figure()\n",
    "plt.plot(logit_fpr, logit_tpr, label='Logistic Regression (area = %0.2f)' % logit_roc_auc)\n",
    "plt.plot([0, 1], [0, 1],'r--')\n",
    "plt.xlim([0.0, 1.0])\n",
    "plt.ylim([0.0, 1.05])\n",
    "plt.xlabel('False Positive Rate')\n",
    "plt.ylabel('True Positive Rate')\n",
    "plt.title('Receiver operating characteristic')\n",
    "plt.legend(loc=\"lower right\")\n",
    "plt.savefig('Log_ROC')\n",
    "plt.show()"
   ]
  },
  {
   "cell_type": "markdown",
   "metadata": {},
   "source": [
    "<h4>Model 3: Naïve Bayes</h4>"
   ]
  },
  {
   "cell_type": "code",
   "execution_count": 30,
   "metadata": {},
   "outputs": [
    {
     "name": "stdout",
     "output_type": "stream",
     "text": [
      "Accuracy of Naïve Bayes classifier on test set: 0.65\n"
     ]
    }
   ],
   "source": [
    "from sklearn.naive_bayes import GaussianNB\n",
    "clf = GaussianNB()\n",
    "clf=clf.fit(x_train, y_train)\n",
    "pred = clf.predict(x_test)\n",
    "pred_p=clf.predict_proba(x_test)\n",
    "accuracy_dict['Naive Bayes']=clf.score(x_test, y_test)\n",
    "print('Accuracy of Naïve Bayes classifier on test set: {:.2f}'.format(clf.score(x_test, y_test)))"
   ]
  },
  {
   "cell_type": "markdown",
   "metadata": {},
   "source": [
    "confusion matrix"
   ]
  },
  {
   "cell_type": "code",
   "execution_count": 31,
   "metadata": {},
   "outputs": [
    {
     "name": "stdout",
     "output_type": "stream",
     "text": [
      "\n",
      "0 is BATTERY and 1 is theft\n",
      "\n",
      "\n",
      "Predicted        0       1\n",
      "Actual                    \n",
      "0           324450   30043\n",
      "1           224831  147755\n"
     ]
    }
   ],
   "source": [
    "clf = clf.predict(x_test)\n",
    "print('\\n0 is BATTERY and 1 is theft\\n\\n')\n",
    "print(pd.crosstab(y_test, pred, rownames=['Actual '], colnames=['Predicted ']))"
   ]
  },
  {
   "cell_type": "code",
   "execution_count": 32,
   "metadata": {},
   "outputs": [
    {
     "name": "stdout",
     "output_type": "stream",
     "text": [
      "             precision    recall  f1-score   support\n",
      "\n",
      "          0       0.59      0.92      0.72    354493\n",
      "          1       0.83      0.40      0.54    372586\n",
      "\n",
      "avg / total       0.71      0.65      0.63    727079\n",
      "\n"
     ]
    }
   ],
   "source": [
    "from sklearn.metrics import classification_report\n",
    "print(classification_report(y_test, pred))"
   ]
  },
  {
   "cell_type": "code",
   "execution_count": 33,
   "metadata": {},
   "outputs": [
    {
     "data": {
      "image/png": "[encoded data removed]",
      "text/plain": [
       "<matplotlib.figure.Figure at 0x1f3f9545668>"
      ]
     },
     "metadata": {},
     "output_type": "display_data"
    }
   ],
   "source": [
    "from sklearn.metrics import roc_auc_score\n",
    "from sklearn.metrics import roc_curve\n",
    "GaussianNB_roc_auc = roc_auc_score(y_test, pred)\n",
    "GaussianNB_fpr, GaussianNB_tpr, GaussianNB_thresholds = roc_curve(y_test, pred_p[:,1])\n",
    "plt.figure()\n",
    "plt.plot(GaussianNB_fpr, GaussianNB_tpr, label='Naïve Bayes (area = %0.2f)' % GaussianNB_roc_auc)\n",
    "plt.plot([0, 1], [0, 1],'r--')\n",
    "plt.xlim([0.0, 1.0])\n",
    "plt.ylim([0.0, 1.05])\n",
    "plt.xlabel('False Positive Rate')\n",
    "plt.ylabel('True Positive Rate')\n",
    "plt.title('Receiver operating characteristic')\n",
    "plt.legend(loc=\"lower right\")\n",
    "plt.savefig('Log_ROC')\n",
    "plt.show()"
   ]
  },
  {
   "cell_type": "markdown",
   "metadata": {},
   "source": [
    "<h4>Model 4: Decision Tree</h4>"
   ]
  },
  {
   "cell_type": "code",
   "execution_count": 34,
   "metadata": {},
   "outputs": [
    {
     "name": "stdout",
     "output_type": "stream",
     "text": [
      "Accuracy of Decision Tree classifier on test set: 0.72\n"
     ]
    }
   ],
   "source": [
    "from sklearn import tree\n",
    "treeclf = tree.DecisionTreeClassifier()\n",
    "treeclf = treeclf.fit(x_train, y_train)\n",
    "pred = treeclf.predict(x_test)\n",
    "pred_p=treeclf.predict_proba(x_test)\n",
    "accuracy_dict['Decision Tree']=treeclf.score(x_test, y_test)\n",
    "print('Accuracy of Decision Tree classifier on test set: {:.2f}'.format(treeclf.score(x_test, y_test)))"
   ]
  },
  {
   "cell_type": "code",
   "execution_count": 35,
   "metadata": {},
   "outputs": [
    {
     "name": "stdout",
     "output_type": "stream",
     "text": [
      "\n",
      "0 is BATTERY and 1 is theft\n",
      "\n",
      "\n",
      "Predicted        0       1\n",
      "Actual                    \n",
      "0           268375   86118\n",
      "1           117972  254614\n"
     ]
    }
   ],
   "source": [
    "treeclf = treeclf.predict(x_test)\n",
    "print('\\n0 is BATTERY and 1 is theft\\n\\n')\n",
    "print(pd.crosstab(y_test, pred, rownames=['Actual '], colnames=['Predicted ']))"
   ]
  },
  {
   "cell_type": "code",
   "execution_count": 36,
   "metadata": {},
   "outputs": [
    {
     "name": "stdout",
     "output_type": "stream",
     "text": [
      "             precision    recall  f1-score   support\n",
      "\n",
      "          0       0.69      0.76      0.72    354493\n",
      "          1       0.75      0.68      0.71    372586\n",
      "\n",
      "avg / total       0.72      0.72      0.72    727079\n",
      "\n"
     ]
    }
   ],
   "source": [
    "from sklearn.metrics import classification_report\n",
    "print(classification_report(y_test, pred))"
   ]
  },
  {
   "cell_type": "code",
   "execution_count": 37,
   "metadata": {},
   "outputs": [
    {
     "data": {
      "image/png": "[encoded data removed]",
      "text/plain": [
       "<matplotlib.figure.Figure at 0x1f3f6ae7be0>"
      ]
     },
     "metadata": {},
     "output_type": "display_data"
    }
   ],
   "source": [
    "from sklearn.metrics import roc_auc_score\n",
    "from sklearn.metrics import roc_curve\n",
    "tree_roc_auc = roc_auc_score(y_test, pred)\n",
    "tree_fpr, tree_tpr, tree_thresholds = roc_curve(y_test, pred_p[:,1])\n",
    "plt.figure()\n",
    "plt.plot(tree_fpr, tree_tpr, label='Naïve Bayes (area = %0.2f)' % tree_roc_auc)\n",
    "plt.plot([0, 1], [0, 1],'r--')\n",
    "plt.xlim([0.0, 1.0])\n",
    "plt.ylim([0.0, 1.0])\n",
    "plt.xlabel('False Positive Rate')\n",
    "plt.ylabel('True Positive Rate')\n",
    "plt.title('Receiver operating characteristic')\n",
    "plt.legend(loc=\"lower right\")\n",
    "plt.savefig('Log_ROC')\n",
    "plt.show()"
   ]
  },
  {
   "cell_type": "markdown",
   "metadata": {},
   "source": [
    "<font >\n",
    "<h4 align=\"center\">\n",
    "Conclusions</h4>\n",
    "</font>"
   ]
  },
  {
   "cell_type": "markdown",
   "metadata": {},
   "source": [
    "<h4>ROC for all three models</h4>"
   ]
  },
  {
   "cell_type": "code",
   "execution_count": 38,
   "metadata": {},
   "outputs": [
    {
     "data": {
      "image/png": "[encoded data removed]",
      "text/plain": [
       "<matplotlib.figure.Figure at 0x1f3f770d780>"
      ]
     },
     "metadata": {},
     "output_type": "display_data"
    }
   ],
   "source": [
    "plt.figure()\n",
    "plt.plot(random_fpr, random_tpr, label='Random forest (area = %0.2f)' % random_roc_auc)\n",
    "plt.plot(logit_fpr, logit_tpr, label='Logistic Regression (area = %0.2f)' % logit_roc_auc)\n",
    "plt.plot(GaussianNB_fpr, GaussianNB_tpr, label='Naïve Bayes (area = %0.2f)' % GaussianNB_roc_auc)\n",
    "plt.plot(tree_fpr, tree_tpr, label='DT (area = %0.2f)' % tree_roc_auc)\n",
    "plt.plot([0, 1], [0, 1],'r--')\n",
    "plt.xlim([0.0, 1.0])\n",
    "plt.ylim([0.0, 1.0])\n",
    "plt.xlabel('False Positive Rate')\n",
    "plt.ylabel('True Positive Rate')\n",
    "plt.title('Receiver operating characteristic for all four models')\n",
    "plt.legend(loc=\"lower right\")\n",
    "plt.savefig('Log_ROC')\n",
    "plt.show()"
   ]
  },
  {
   "cell_type": "code",
   "execution_count": 39,
   "metadata": {},
   "outputs": [
    {
     "data": {
      "text/plain": [
       "<matplotlib.axes._subplots.AxesSubplot at 0x1f40f9de048>"
      ]
     },
     "execution_count": 39,
     "metadata": {},
     "output_type": "execute_result"
    },
    {
     "data": {
      "image/png": "[encoded data removed]",
      "text/plain": [
       "<matplotlib.figure.Figure at 0x1f4723e6320>"
      ]
     },
     "metadata": {},
     "output_type": "display_data"
    }
   ],
   "source": [
    "pd.Series(accuracy_dict).plot(kind=\"bar\",title=\"Test accuracy\",width=0.8,color=\"grey\", fontsize=20)"
   ]
  },
  {
   "cell_type": "code",
   "execution_count": null,
   "metadata": {},
   "outputs": [],
   "source": []
  }
 ],
 "metadata": {
  "kernelspec": {
   "display_name": "Python 3",
   "language": "python",
   "name": "python3"
  },
  "language_info": {
   "codemirror_mode": {
    "name": "ipython",
    "version": 3
   },
   "file_extension": ".py",
   "mimetype": "text/x-python",
   "name": "python",
   "nbconvert_exporter": "python",
   "pygments_lexer": "ipython3",
   "version": "3.6.4"
  }
 },
 "nbformat": 4,
 "nbformat_minor": 2
}
