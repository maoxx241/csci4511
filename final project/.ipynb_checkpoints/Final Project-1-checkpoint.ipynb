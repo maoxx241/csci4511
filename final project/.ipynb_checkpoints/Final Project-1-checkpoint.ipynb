{
 "cells": [
  {
   "cell_type": "markdown",
   "metadata": {},
   "source": [
    "<font color=\"#483D8B\">\n",
    "<h1  align=\"center\">Predict the type of crime</h1>\n",
    "<h2 align=\"center\">\n",
    "INET4710 Spring 2018</h2>\n",
    "<h3 align=\"center\">\n",
    "Qi Mao</h3>\n",
    "</font>"
   ]
  },
  {
   "cell_type": "markdown",
   "metadata": {},
   "source": [
    "<h4>\n",
    "The URL of the data:<br>\n",
    "https://catalog.data.gov/dataset/crimes-2001-to-present-398a4\n",
    "</h4>"
   ]
  },
  {
   "cell_type": "markdown",
   "metadata": {},
   "source": [
    "<font >\n",
    "<h4 align=\"center\">\n",
    "Overview</h4>\n",
    "</font>\n"
   ]
  },
  {
   "cell_type": "markdown",
   "metadata": {},
   "source": [
    "For this project,I studied the relationship between the type of crime and the location of the crime. For example,I predict that theft is more likely to happen in apartments and department stores. First of all, I analyzed the data, introduced the meaning of each column. Then I drew some plots for the main types of crime. For the model section, I chose three different models after cleaning up the data. And through these models we have obtained the same conclusions as our prediction."
   ]
  },
  {
   "cell_type": "markdown",
   "metadata": {},
   "source": [
    "<font >\n",
    "<h4 align=\"center\">\n",
    "Exploratory Data Analysis</h4>\n",
    "</font>"
   ]
  },
  {
   "cell_type": "code",
   "execution_count": null,
   "metadata": {
    "collapsed": true
   },
   "outputs": [],
   "source": [
    "import pandas as pd\n",
    "import numpy as np\n",
    "import matplotlib.pyplot as plt\n",
    "df=pd.read_csv('/Users/kindred/csci4511/final project/Crimes_-_2001_to_present.csv', index_col='Date')"
   ]
  },
  {
   "cell_type": "code",
   "execution_count": 5,
   "metadata": {},
   "outputs": [
    {
     "name": "stdout",
     "output_type": "stream",
     "text": [
      "(6575629, 21)\n",
      "['ID', 'Case Number', 'Block', 'IUCR', 'Primary Type', 'Description', 'Location Description', 'Arrest', 'Domestic', 'Beat', 'District', 'Ward', 'Community Area', 'FBI Code', 'X Coordinate', 'Y Coordinate', 'Year', 'Updated On', 'Latitude', 'Longitude', 'Location']\n"
     ]
    }
   ],
   "source": [
    "print(df.shape)\n",
    "print(list(df.columns))"
   ]
  },
  {
   "cell_type": "markdown",
   "metadata": {},
   "source": [
    "<h4>\n",
    "The Description of Column name<br>\n",
    "</h4>\n",
    "\n",
    "ID: Unique identifier for the record. <br><br>\n",
    "Case Number: The Chicago Police Department RD Number (Records Division Number), which is unique to the incident.<br><br>\n",
    "Date: Date when the incident occurred. this is sometimes a best estimate.<br><br>\n",
    "Block: The partially redacted address where the incident occurred, placing it on the same block as the actual address.<br><br>\n",
    "IUCR: The Illinois Unifrom Crime Reporting code. This is directly linked to the Primary Type and Description. (See the list of IUCR codes at https://data.cityofchicago.org/d/c7ck-438e.)<br><br>\n",
    "Primary Type: The primary description of the IUCR code.<br><br>\n",
    "Description: The secondary description of the IUCR code, a subcategory of the primary description.<br><br>\n",
    "Location Description: Description of the location where the incident occurred.<br><br>\n",
    "Arrest: Indicates whether an arrest was made.<br><br>\n",
    "Domestic: Indicates whether the incident was domestic-related as defined by the Illinois Domestic Violence Act.<br><br>\n",
    "Beat: Indicates the beat where the incident occurred. A beat is the smallest police geographic area – each beat has a dedicated police beat car. Three to five beats make up a police sector, and three sectors make up a police district. The Chicago Police Department has 22 police districts. (See the beats at https://data.cityofchicago.org/d/aerh-rz74.)<br><br>\n",
    "District: Indicates the police district where the incident occurred. (See the districts at https://data.cityofchicago.org/d/fthy-xz3r.)<br><br>\n",
    "Ward: The ward (City Council district) where the incident occurred. (See the wards at https://data.cityofchicago.org/d/sp34-6z76.)<br><br>\n",
    "Community Area: Indicates the community area where the incident occurred. Chicago has 77 community areas. (See the community areas at https://data.cityofchicago.org/d/cauq-8yn6.)<br><br>\n",
    "FBI Code:Indicates the crime classification as outlined in the FBI's National Incident-Based Reporting System (NIBRS). (See the Chicago Police Department listing of these classifications at http://gis.chicagopolice.org/clearmap_crime_sums/crime_type)<br><br>\n",
    "X Coordinate: The x coordinate of the location where the incident occurred in State Plane Illinois East NAD 1983 projection. This location is shifted from the actual location for partial redaction but falls on the same block.<br><br>\n",
    "Y Coordinate: The y coordinate of the location where the incident occurred in State Plane Illinois East NAD 1983 projection. This location is shifted from the actual location for partial redaction but falls on the same block.<br><br>\n",
    "Year: Year the incident occurred.<br><br>\n",
    "Updated On: Date and time the record was last updated.<br><br>\n",
    "Latitude: The latitude of the location where the incident occurred. This location is shifted from the actual location for partial redaction but falls on the same block.<br><br>\n",
    "Longitude: The longitude of the location where the incident occurred. This location is shifted from the actual location for partial redaction but falls on the same block.<br><br>\n",
    "Location:\tThe location where the incident occurred in a format that allows for creation of maps and other geographic operations on this data portal. This location is shifted from the actual location for partial redaction but falls on the same block.<br><br>"
   ]
  },
  {
   "cell_type": "code",
   "execution_count": 6,
   "metadata": {},
   "outputs": [
    {
     "data": {
      "text/html": [
       "<div>\n",
       "<style scoped>\n",
       "    .dataframe tbody tr th:only-of-type {\n",
       "        vertical-align: middle;\n",
       "    }\n",
       "\n",
       "    .dataframe tbody tr th {\n",
       "        vertical-align: top;\n",
       "    }\n",
       "\n",
       "    .dataframe thead th {\n",
       "        text-align: right;\n",
       "    }\n",
       "</style>\n",
       "<table border=\"1\" class=\"dataframe\">\n",
       "  <thead>\n",
       "    <tr style=\"text-align: right;\">\n",
       "      <th></th>\n",
       "      <th>ID</th>\n",
       "      <th>Case Number</th>\n",
       "      <th>Block</th>\n",
       "      <th>IUCR</th>\n",
       "      <th>Primary Type</th>\n",
       "      <th>Description</th>\n",
       "      <th>Location Description</th>\n",
       "      <th>Arrest</th>\n",
       "      <th>Domestic</th>\n",
       "      <th>Beat</th>\n",
       "      <th>...</th>\n",
       "      <th>Ward</th>\n",
       "      <th>Community Area</th>\n",
       "      <th>FBI Code</th>\n",
       "      <th>X Coordinate</th>\n",
       "      <th>Y Coordinate</th>\n",
       "      <th>Year</th>\n",
       "      <th>Updated On</th>\n",
       "      <th>Latitude</th>\n",
       "      <th>Longitude</th>\n",
       "      <th>Location</th>\n",
       "    </tr>\n",
       "    <tr>\n",
       "      <th>Date</th>\n",
       "      <th></th>\n",
       "      <th></th>\n",
       "      <th></th>\n",
       "      <th></th>\n",
       "      <th></th>\n",
       "      <th></th>\n",
       "      <th></th>\n",
       "      <th></th>\n",
       "      <th></th>\n",
       "      <th></th>\n",
       "      <th></th>\n",
       "      <th></th>\n",
       "      <th></th>\n",
       "      <th></th>\n",
       "      <th></th>\n",
       "      <th></th>\n",
       "      <th></th>\n",
       "      <th></th>\n",
       "      <th></th>\n",
       "      <th></th>\n",
       "      <th></th>\n",
       "    </tr>\n",
       "  </thead>\n",
       "  <tbody>\n",
       "    <tr>\n",
       "      <th>03/18/2015 07:44:00 PM</th>\n",
       "      <td>10000092</td>\n",
       "      <td>HY189866</td>\n",
       "      <td>047XX W OHIO ST</td>\n",
       "      <td>041A</td>\n",
       "      <td>BATTERY</td>\n",
       "      <td>AGGRAVATED: HANDGUN</td>\n",
       "      <td>STREET</td>\n",
       "      <td>False</td>\n",
       "      <td>False</td>\n",
       "      <td>1111</td>\n",
       "      <td>...</td>\n",
       "      <td>28.0</td>\n",
       "      <td>25.0</td>\n",
       "      <td>04B</td>\n",
       "      <td>1144606.0</td>\n",
       "      <td>1903566.0</td>\n",
       "      <td>2015</td>\n",
       "      <td>02/10/2018 03:50:01 PM</td>\n",
       "      <td>41.891399</td>\n",
       "      <td>-87.744385</td>\n",
       "      <td>(41.891398861, -87.744384567)</td>\n",
       "    </tr>\n",
       "    <tr>\n",
       "      <th>03/18/2015 11:00:00 PM</th>\n",
       "      <td>10000094</td>\n",
       "      <td>HY190059</td>\n",
       "      <td>066XX S MARSHFIELD AVE</td>\n",
       "      <td>4625</td>\n",
       "      <td>OTHER OFFENSE</td>\n",
       "      <td>PAROLE VIOLATION</td>\n",
       "      <td>STREET</td>\n",
       "      <td>True</td>\n",
       "      <td>False</td>\n",
       "      <td>725</td>\n",
       "      <td>...</td>\n",
       "      <td>15.0</td>\n",
       "      <td>67.0</td>\n",
       "      <td>26</td>\n",
       "      <td>1166468.0</td>\n",
       "      <td>1860715.0</td>\n",
       "      <td>2015</td>\n",
       "      <td>02/10/2018 03:50:01 PM</td>\n",
       "      <td>41.773372</td>\n",
       "      <td>-87.665319</td>\n",
       "      <td>(41.773371528, -87.665319468)</td>\n",
       "    </tr>\n",
       "    <tr>\n",
       "      <th>03/18/2015 10:45:00 PM</th>\n",
       "      <td>10000095</td>\n",
       "      <td>HY190052</td>\n",
       "      <td>044XX S LAKE PARK AVE</td>\n",
       "      <td>0486</td>\n",
       "      <td>BATTERY</td>\n",
       "      <td>DOMESTIC BATTERY SIMPLE</td>\n",
       "      <td>APARTMENT</td>\n",
       "      <td>False</td>\n",
       "      <td>True</td>\n",
       "      <td>222</td>\n",
       "      <td>...</td>\n",
       "      <td>4.0</td>\n",
       "      <td>39.0</td>\n",
       "      <td>08B</td>\n",
       "      <td>1185075.0</td>\n",
       "      <td>1875622.0</td>\n",
       "      <td>2015</td>\n",
       "      <td>02/10/2018 03:50:01 PM</td>\n",
       "      <td>41.813861</td>\n",
       "      <td>-87.596643</td>\n",
       "      <td>(41.81386068, -87.596642837)</td>\n",
       "    </tr>\n",
       "    <tr>\n",
       "      <th>03/18/2015 10:30:00 PM</th>\n",
       "      <td>10000096</td>\n",
       "      <td>HY190054</td>\n",
       "      <td>051XX S MICHIGAN AVE</td>\n",
       "      <td>0460</td>\n",
       "      <td>BATTERY</td>\n",
       "      <td>SIMPLE</td>\n",
       "      <td>APARTMENT</td>\n",
       "      <td>False</td>\n",
       "      <td>False</td>\n",
       "      <td>225</td>\n",
       "      <td>...</td>\n",
       "      <td>3.0</td>\n",
       "      <td>40.0</td>\n",
       "      <td>08B</td>\n",
       "      <td>1178033.0</td>\n",
       "      <td>1870804.0</td>\n",
       "      <td>2015</td>\n",
       "      <td>02/10/2018 03:50:01 PM</td>\n",
       "      <td>41.800802</td>\n",
       "      <td>-87.622619</td>\n",
       "      <td>(41.800802415, -87.622619343)</td>\n",
       "    </tr>\n",
       "    <tr>\n",
       "      <th>03/18/2015 09:00:00 PM</th>\n",
       "      <td>10000097</td>\n",
       "      <td>HY189976</td>\n",
       "      <td>047XX W ADAMS ST</td>\n",
       "      <td>031A</td>\n",
       "      <td>ROBBERY</td>\n",
       "      <td>ARMED: HANDGUN</td>\n",
       "      <td>SIDEWALK</td>\n",
       "      <td>False</td>\n",
       "      <td>False</td>\n",
       "      <td>1113</td>\n",
       "      <td>...</td>\n",
       "      <td>28.0</td>\n",
       "      <td>25.0</td>\n",
       "      <td>03</td>\n",
       "      <td>1144920.0</td>\n",
       "      <td>1898709.0</td>\n",
       "      <td>2015</td>\n",
       "      <td>02/10/2018 03:50:01 PM</td>\n",
       "      <td>41.878065</td>\n",
       "      <td>-87.743354</td>\n",
       "      <td>(41.878064761, -87.743354013)</td>\n",
       "    </tr>\n",
       "  </tbody>\n",
       "</table>\n",
       "<p>5 rows × 21 columns</p>\n",
       "</div>"
      ],
      "text/plain": [
       "                              ID Case Number                   Block  IUCR  \\\n",
       "Date                                                                         \n",
       "03/18/2015 07:44:00 PM  10000092    HY189866         047XX W OHIO ST  041A   \n",
       "03/18/2015 11:00:00 PM  10000094    HY190059  066XX S MARSHFIELD AVE  4625   \n",
       "03/18/2015 10:45:00 PM  10000095    HY190052   044XX S LAKE PARK AVE  0486   \n",
       "03/18/2015 10:30:00 PM  10000096    HY190054    051XX S MICHIGAN AVE  0460   \n",
       "03/18/2015 09:00:00 PM  10000097    HY189976        047XX W ADAMS ST  031A   \n",
       "\n",
       "                         Primary Type              Description  \\\n",
       "Date                                                             \n",
       "03/18/2015 07:44:00 PM        BATTERY      AGGRAVATED: HANDGUN   \n",
       "03/18/2015 11:00:00 PM  OTHER OFFENSE         PAROLE VIOLATION   \n",
       "03/18/2015 10:45:00 PM        BATTERY  DOMESTIC BATTERY SIMPLE   \n",
       "03/18/2015 10:30:00 PM        BATTERY                   SIMPLE   \n",
       "03/18/2015 09:00:00 PM        ROBBERY           ARMED: HANDGUN   \n",
       "\n",
       "                       Location Description  Arrest  Domestic  Beat  \\\n",
       "Date                                                                  \n",
       "03/18/2015 07:44:00 PM               STREET   False     False  1111   \n",
       "03/18/2015 11:00:00 PM               STREET    True     False   725   \n",
       "03/18/2015 10:45:00 PM            APARTMENT   False      True   222   \n",
       "03/18/2015 10:30:00 PM            APARTMENT   False     False   225   \n",
       "03/18/2015 09:00:00 PM             SIDEWALK   False     False  1113   \n",
       "\n",
       "                                    ...                Ward  Community Area  \\\n",
       "Date                                ...                                       \n",
       "03/18/2015 07:44:00 PM              ...                28.0            25.0   \n",
       "03/18/2015 11:00:00 PM              ...                15.0            67.0   \n",
       "03/18/2015 10:45:00 PM              ...                 4.0            39.0   \n",
       "03/18/2015 10:30:00 PM              ...                 3.0            40.0   \n",
       "03/18/2015 09:00:00 PM              ...                28.0            25.0   \n",
       "\n",
       "                        FBI Code X Coordinate  Y Coordinate  Year  \\\n",
       "Date                                                                \n",
       "03/18/2015 07:44:00 PM       04B    1144606.0     1903566.0  2015   \n",
       "03/18/2015 11:00:00 PM        26    1166468.0     1860715.0  2015   \n",
       "03/18/2015 10:45:00 PM       08B    1185075.0     1875622.0  2015   \n",
       "03/18/2015 10:30:00 PM       08B    1178033.0     1870804.0  2015   \n",
       "03/18/2015 09:00:00 PM        03    1144920.0     1898709.0  2015   \n",
       "\n",
       "                                    Updated On   Latitude  Longitude  \\\n",
       "Date                                                                   \n",
       "03/18/2015 07:44:00 PM  02/10/2018 03:50:01 PM  41.891399 -87.744385   \n",
       "03/18/2015 11:00:00 PM  02/10/2018 03:50:01 PM  41.773372 -87.665319   \n",
       "03/18/2015 10:45:00 PM  02/10/2018 03:50:01 PM  41.813861 -87.596643   \n",
       "03/18/2015 10:30:00 PM  02/10/2018 03:50:01 PM  41.800802 -87.622619   \n",
       "03/18/2015 09:00:00 PM  02/10/2018 03:50:01 PM  41.878065 -87.743354   \n",
       "\n",
       "                                             Location  \n",
       "Date                                                   \n",
       "03/18/2015 07:44:00 PM  (41.891398861, -87.744384567)  \n",
       "03/18/2015 11:00:00 PM  (41.773371528, -87.665319468)  \n",
       "03/18/2015 10:45:00 PM   (41.81386068, -87.596642837)  \n",
       "03/18/2015 10:30:00 PM  (41.800802415, -87.622619343)  \n",
       "03/18/2015 09:00:00 PM  (41.878064761, -87.743354013)  \n",
       "\n",
       "[5 rows x 21 columns]"
      ]
     },
     "execution_count": 6,
     "metadata": {},
     "output_type": "execute_result"
    }
   ],
   "source": [
    "df.head()"
   ]
  },
  {
   "cell_type": "markdown",
   "metadata": {},
   "source": [
    "<h4>Top 11 crime type</h4>"
   ]
  },
  {
   "cell_type": "code",
   "execution_count": 7,
   "metadata": {},
   "outputs": [
    {
     "data": {
      "image/png": "[encoded data removed]",
      "text/plain": [
       "<matplotlib.figure.Figure at 0x1db8f28bbe0>"
      ]
     },
     "metadata": {},
     "output_type": "display_data"
    }
   ],
   "source": [
    "df.index = pd.to_datetime(df.index)\n",
    "crimes=df.loc['2001':'2017']\n",
    "crimetype_count = pd.DataFrame(crimes[['Primary Type']].groupby('Primary Type').size().sort_values(ascending=False).rename('counts').reset_index())\n",
    "plt.scatter(crimetype_count['counts'][:11],crimetype_count['Primary Type'][:11])\n",
    "plt.show()"
   ]
  },
  {
   "cell_type": "markdown",
   "metadata": {},
   "source": [
    "We can see that from 2001 to 2017 the main types of crime are theft and battery"
   ]
  },
  {
   "cell_type": "markdown",
   "metadata": {},
   "source": [
    "<h4>The trend of arrest</h4>"
   ]
  },
  {
   "cell_type": "code",
   "execution_count": 8,
   "metadata": {},
   "outputs": [
    {
     "data": {
      "image/png": "[encoded data removed]",
      "text/plain": [
       "<matplotlib.figure.Figure at 0x1db8f6a08d0>"
      ]
     },
     "metadata": {},
     "output_type": "display_data"
    }
   ],
   "source": [
    "plt.subplot()\n",
    "crimes[crimes['Arrest'] == True]['Arrest'].resample('A').sum().plot()\n",
    "plt.title('view by year')\n",
    "plt.show()"
   ]
  },
  {
   "cell_type": "markdown",
   "metadata": {},
   "source": [
    "We can find that the number of arrests is showing a downward trend year by year."
   ]
  },
  {
   "cell_type": "markdown",
   "metadata": {},
   "source": [
    "<h4>The trend of Theft Crimes</h4> "
   ]
  },
  {
   "cell_type": "code",
   "execution_count": 9,
   "metadata": {},
   "outputs": [
    {
     "data": {
      "image/png": "[encoded data removed]",
      "text/plain": [
       "<matplotlib.figure.Figure at 0x1db89cb7588>"
      ]
     },
     "metadata": {},
     "output_type": "display_data"
    }
   ],
   "source": [
    "theft = pd.DataFrame(crimes[crimes['Primary Type'].isin(['THEFT'])]['Primary Type'])\n",
    "(theft.groupby([pd.Grouper(freq='A'), 'Primary Type']))['Primary Type'].count().unstack().plot()\n",
    "plt.title(\"Theft Crimes Trend\")\n",
    "plt.show()"
   ]
  },
  {
   "cell_type": "markdown",
   "metadata": {},
   "source": [
    "We found that although the overall downward trend in the number of crimes of theft, the number of crimes crimes of theft since 2015 has increased."
   ]
  },
  {
   "cell_type": "markdown",
   "metadata": {},
   "source": [
    "<h4>The trend of Battery Crimes</h4> "
   ]
  },
  {
   "cell_type": "code",
   "execution_count": 11,
   "metadata": {},
   "outputs": [
    {
     "data": {
      "image/png": "[encoded data removed]",
      "text/plain": [
       "<matplotlib.figure.Figure at 0x1db8f79f4e0>"
      ]
     },
     "metadata": {},
     "output_type": "display_data"
    }
   ],
   "source": [
    "battery = pd.DataFrame(crimes[crimes['Primary Type'].isin(['BATTERY'])]['Primary Type'])\n",
    "(battery.groupby([pd.Grouper(freq='A'), 'Primary Type']))['Primary Type'].count().unstack().plot()\n",
    "plt.title(\"Battery Crimes Trend\")\n",
    "plt.show()"
   ]
  },
  {
   "cell_type": "markdown",
   "metadata": {},
   "source": [
    "We found that the overall downward trend in the number of crimes of theft"
   ]
  },
  {
   "cell_type": "markdown",
   "metadata": {},
   "source": [
    "<h4>Combine two plot</h4>"
   ]
  },
  {
   "cell_type": "code",
   "execution_count": 14,
   "metadata": {},
   "outputs": [
    {
     "data": {
      "image/png": "[encoded data removed]",
      "text/plain": [
       "<matplotlib.figure.Figure at 0x1db8f82a240>"
      ]
     },
     "metadata": {},
     "output_type": "display_data"
    }
   ],
   "source": [
    "Trend=pd.DataFrame(crimes[crimes['Primary Type'].isin(['THEFT','BATTERY'])]['Primary Type'])\n",
    "(Trend.groupby([pd.Grouper(freq='A'), 'Primary Type']))['Primary Type'].count().unstack().plot()\n",
    "plt.title(\"Crimes Trend\")\n",
    "plt.show()"
   ]
  },
  {
   "cell_type": "markdown",
   "metadata": {},
   "source": [
    "<font >\n",
    "<h4 align=\"center\">\n",
    "Clean up the data and Models</h4>\n",
    "</font>"
   ]
  },
  {
   "cell_type": "markdown",
   "metadata": {},
   "source": [
    "In this section, I explore the connection of the location factor to the type of crime. So I chose to leave three factors of longitude, latitude and location."
   ]
  },
  {
   "cell_type": "markdown",
   "metadata": {},
   "source": [
    "First throw away other crime type and extremely rare locations"
   ]
  },
  {
   "cell_type": "code",
   "execution_count": 15,
   "metadata": {
    "collapsed": true
   },
   "outputs": [],
   "source": [
    "crimes = pd.read_csv('C:\\myClasses\\INET4710_2018Spring\\project\\Crimes_-_2001_to_present.csv',error_bad_lines=False)\n",
    "types=crimes.groupby('Primary Type')['Primary Type'].count()\n",
    "types.sort_values(ascending=False, inplace=True)\n",
    "clist=types.index.values[0:2].tolist()\n",
    "crimes=crimes[crimes[\"Primary Type\"].isin(clist)]\n",
    "\n",
    "types=crimes.groupby('Location Description')['Location Description'].count()\n",
    "types.sort_values(ascending=False, inplace=True)\n",
    "clist=types.index.values[0:30].tolist()\n",
    "crimes=crimes[crimes['Location Description'].isin(clist)]\n"
   ]
  },
  {
   "cell_type": "markdown",
   "metadata": {},
   "source": [
    "make a new column named Theft. give theft an indicator variable 1 and give battery an indicator variable 0"
   ]
  },
  {
   "cell_type": "code",
   "execution_count": 17,
   "metadata": {
    "collapsed": true
   },
   "outputs": [],
   "source": [
    "theft=['THEFT']\n",
    "crimes['Theft']=np.where(crimes['Primary Type'].isin(theft), 1, 0)"
   ]
  },
  {
   "cell_type": "markdown",
   "metadata": {},
   "source": [
    "drop other column, only leave Theft, Latitude, Longitude, and Location Description."
   ]
  },
  {
   "cell_type": "code",
   "execution_count": 20,
   "metadata": {},
   "outputs": [
    {
     "data": {
      "text/html": [
       "<div>\n",
       "<style scoped>\n",
       "    .dataframe tbody tr th:only-of-type {\n",
       "        vertical-align: middle;\n",
       "    }\n",
       "\n",
       "    .dataframe tbody tr th {\n",
       "        vertical-align: top;\n",
       "    }\n",
       "\n",
       "    .dataframe thead th {\n",
       "        text-align: right;\n",
       "    }\n",
       "</style>\n",
       "<table border=\"1\" class=\"dataframe\">\n",
       "  <thead>\n",
       "    <tr style=\"text-align: right;\">\n",
       "      <th></th>\n",
       "      <th>Theft</th>\n",
       "      <th>Location Description</th>\n",
       "      <th>Latitude</th>\n",
       "      <th>Longitude</th>\n",
       "    </tr>\n",
       "  </thead>\n",
       "  <tbody>\n",
       "    <tr>\n",
       "      <th>0</th>\n",
       "      <td>0</td>\n",
       "      <td>STREET</td>\n",
       "      <td>41.891399</td>\n",
       "      <td>-87.744385</td>\n",
       "    </tr>\n",
       "    <tr>\n",
       "      <th>2</th>\n",
       "      <td>0</td>\n",
       "      <td>APARTMENT</td>\n",
       "      <td>41.813861</td>\n",
       "      <td>-87.596643</td>\n",
       "    </tr>\n",
       "    <tr>\n",
       "      <th>3</th>\n",
       "      <td>0</td>\n",
       "      <td>APARTMENT</td>\n",
       "      <td>41.800802</td>\n",
       "      <td>-87.622619</td>\n",
       "    </tr>\n",
       "    <tr>\n",
       "      <th>5</th>\n",
       "      <td>0</td>\n",
       "      <td>APARTMENT</td>\n",
       "      <td>41.805443</td>\n",
       "      <td>-87.604284</td>\n",
       "    </tr>\n",
       "    <tr>\n",
       "      <th>6</th>\n",
       "      <td>0</td>\n",
       "      <td>APARTMENT</td>\n",
       "      <td>41.766403</td>\n",
       "      <td>-87.649296</td>\n",
       "    </tr>\n",
       "  </tbody>\n",
       "</table>\n",
       "</div>"
      ],
      "text/plain": [
       "   Theft Location Description   Latitude  Longitude\n",
       "0      0               STREET  41.891399 -87.744385\n",
       "2      0            APARTMENT  41.813861 -87.596643\n",
       "3      0            APARTMENT  41.800802 -87.622619\n",
       "5      0            APARTMENT  41.805443 -87.604284\n",
       "6      0            APARTMENT  41.766403 -87.649296"
      ]
     },
     "execution_count": 20,
     "metadata": {},
     "output_type": "execute_result"
    }
   ],
   "source": [
    "crimes = crimes[[ 'Theft', 'Location Description', 'Latitude','Longitude']]\n",
    "crimes.head()"
   ]
  },
  {
   "cell_type": "markdown",
   "metadata": {},
   "source": [
    "I use the get_dummies method to to convert the location data into dummy variable. and drop the NA data."
   ]
  },
  {
   "cell_type": "code",
   "execution_count": 21,
   "metadata": {
    "collapsed": true
   },
   "outputs": [],
   "source": [
    "crimes=crimes[crimes[\"Location Description\"]!=\"OTHER\"]\n",
    "crimes=pd.get_dummies(crimes,columns=[\"Location Description\"])\n",
    "crimes=crimes[pd.isna(crimes[\"Latitude\"])==False]"
   ]
  },
  {
   "cell_type": "code",
   "execution_count": 22,
   "metadata": {},
   "outputs": [
    {
     "data": {
      "text/html": [
       "<div>\n",
       "<style scoped>\n",
       "    .dataframe tbody tr th:only-of-type {\n",
       "        vertical-align: middle;\n",
       "    }\n",
       "\n",
       "    .dataframe tbody tr th {\n",
       "        vertical-align: top;\n",
       "    }\n",
       "\n",
       "    .dataframe thead th {\n",
       "        text-align: right;\n",
       "    }\n",
       "</style>\n",
       "<table border=\"1\" class=\"dataframe\">\n",
       "  <thead>\n",
       "    <tr style=\"text-align: right;\">\n",
       "      <th></th>\n",
       "      <th>Theft</th>\n",
       "      <th>Latitude</th>\n",
       "      <th>Longitude</th>\n",
       "      <th>Location Description_ALLEY</th>\n",
       "      <th>Location Description_APARTMENT</th>\n",
       "      <th>Location Description_BAR OR TAVERN</th>\n",
       "      <th>Location Description_CHA APARTMENT</th>\n",
       "      <th>Location Description_CHA PARKING LOT/GROUNDS</th>\n",
       "      <th>Location Description_COMMERCIAL / BUSINESS OFFICE</th>\n",
       "      <th>Location Description_CTA BUS</th>\n",
       "      <th>...</th>\n",
       "      <th>Location Description_RESIDENCE-GARAGE</th>\n",
       "      <th>Location Description_RESIDENTIAL YARD (FRONT/BACK)</th>\n",
       "      <th>Location Description_RESTAURANT</th>\n",
       "      <th>Location Description_SCHOOL, PUBLIC, BUILDING</th>\n",
       "      <th>Location Description_SCHOOL, PUBLIC, GROUNDS</th>\n",
       "      <th>Location Description_SIDEWALK</th>\n",
       "      <th>Location Description_SMALL RETAIL STORE</th>\n",
       "      <th>Location Description_STREET</th>\n",
       "      <th>Location Description_TAVERN/LIQUOR STORE</th>\n",
       "      <th>Location Description_VEHICLE NON-COMMERCIAL</th>\n",
       "    </tr>\n",
       "  </thead>\n",
       "  <tbody>\n",
       "    <tr>\n",
       "      <th>0</th>\n",
       "      <td>0</td>\n",
       "      <td>41.891399</td>\n",
       "      <td>-87.744385</td>\n",
       "      <td>0</td>\n",
       "      <td>0</td>\n",
       "      <td>0</td>\n",
       "      <td>0</td>\n",
       "      <td>0</td>\n",
       "      <td>0</td>\n",
       "      <td>0</td>\n",
       "      <td>...</td>\n",
       "      <td>0</td>\n",
       "      <td>0</td>\n",
       "      <td>0</td>\n",
       "      <td>0</td>\n",
       "      <td>0</td>\n",
       "      <td>0</td>\n",
       "      <td>0</td>\n",
       "      <td>1</td>\n",
       "      <td>0</td>\n",
       "      <td>0</td>\n",
       "    </tr>\n",
       "    <tr>\n",
       "      <th>2</th>\n",
       "      <td>0</td>\n",
       "      <td>41.813861</td>\n",
       "      <td>-87.596643</td>\n",
       "      <td>0</td>\n",
       "      <td>1</td>\n",
       "      <td>0</td>\n",
       "      <td>0</td>\n",
       "      <td>0</td>\n",
       "      <td>0</td>\n",
       "      <td>0</td>\n",
       "      <td>...</td>\n",
       "      <td>0</td>\n",
       "      <td>0</td>\n",
       "      <td>0</td>\n",
       "      <td>0</td>\n",
       "      <td>0</td>\n",
       "      <td>0</td>\n",
       "      <td>0</td>\n",
       "      <td>0</td>\n",
       "      <td>0</td>\n",
       "      <td>0</td>\n",
       "    </tr>\n",
       "    <tr>\n",
       "      <th>3</th>\n",
       "      <td>0</td>\n",
       "      <td>41.800802</td>\n",
       "      <td>-87.622619</td>\n",
       "      <td>0</td>\n",
       "      <td>1</td>\n",
       "      <td>0</td>\n",
       "      <td>0</td>\n",
       "      <td>0</td>\n",
       "      <td>0</td>\n",
       "      <td>0</td>\n",
       "      <td>...</td>\n",
       "      <td>0</td>\n",
       "      <td>0</td>\n",
       "      <td>0</td>\n",
       "      <td>0</td>\n",
       "      <td>0</td>\n",
       "      <td>0</td>\n",
       "      <td>0</td>\n",
       "      <td>0</td>\n",
       "      <td>0</td>\n",
       "      <td>0</td>\n",
       "    </tr>\n",
       "    <tr>\n",
       "      <th>5</th>\n",
       "      <td>0</td>\n",
       "      <td>41.805443</td>\n",
       "      <td>-87.604284</td>\n",
       "      <td>0</td>\n",
       "      <td>1</td>\n",
       "      <td>0</td>\n",
       "      <td>0</td>\n",
       "      <td>0</td>\n",
       "      <td>0</td>\n",
       "      <td>0</td>\n",
       "      <td>...</td>\n",
       "      <td>0</td>\n",
       "      <td>0</td>\n",
       "      <td>0</td>\n",
       "      <td>0</td>\n",
       "      <td>0</td>\n",
       "      <td>0</td>\n",
       "      <td>0</td>\n",
       "      <td>0</td>\n",
       "      <td>0</td>\n",
       "      <td>0</td>\n",
       "    </tr>\n",
       "    <tr>\n",
       "      <th>6</th>\n",
       "      <td>0</td>\n",
       "      <td>41.766403</td>\n",
       "      <td>-87.649296</td>\n",
       "      <td>0</td>\n",
       "      <td>1</td>\n",
       "      <td>0</td>\n",
       "      <td>0</td>\n",
       "      <td>0</td>\n",
       "      <td>0</td>\n",
       "      <td>0</td>\n",
       "      <td>...</td>\n",
       "      <td>0</td>\n",
       "      <td>0</td>\n",
       "      <td>0</td>\n",
       "      <td>0</td>\n",
       "      <td>0</td>\n",
       "      <td>0</td>\n",
       "      <td>0</td>\n",
       "      <td>0</td>\n",
       "      <td>0</td>\n",
       "      <td>0</td>\n",
       "    </tr>\n",
       "  </tbody>\n",
       "</table>\n",
       "<p>5 rows × 32 columns</p>\n",
       "</div>"
      ],
      "text/plain": [
       "   Theft   Latitude  Longitude  Location Description_ALLEY  \\\n",
       "0      0  41.891399 -87.744385                           0   \n",
       "2      0  41.813861 -87.596643                           0   \n",
       "3      0  41.800802 -87.622619                           0   \n",
       "5      0  41.805443 -87.604284                           0   \n",
       "6      0  41.766403 -87.649296                           0   \n",
       "\n",
       "   Location Description_APARTMENT  Location Description_BAR OR TAVERN  \\\n",
       "0                               0                                   0   \n",
       "2                               1                                   0   \n",
       "3                               1                                   0   \n",
       "5                               1                                   0   \n",
       "6                               1                                   0   \n",
       "\n",
       "   Location Description_CHA APARTMENT  \\\n",
       "0                                   0   \n",
       "2                                   0   \n",
       "3                                   0   \n",
       "5                                   0   \n",
       "6                                   0   \n",
       "\n",
       "   Location Description_CHA PARKING LOT/GROUNDS  \\\n",
       "0                                             0   \n",
       "2                                             0   \n",
       "3                                             0   \n",
       "5                                             0   \n",
       "6                                             0   \n",
       "\n",
       "   Location Description_COMMERCIAL / BUSINESS OFFICE  \\\n",
       "0                                                  0   \n",
       "2                                                  0   \n",
       "3                                                  0   \n",
       "5                                                  0   \n",
       "6                                                  0   \n",
       "\n",
       "   Location Description_CTA BUS                     ...                       \\\n",
       "0                             0                     ...                        \n",
       "2                             0                     ...                        \n",
       "3                             0                     ...                        \n",
       "5                             0                     ...                        \n",
       "6                             0                     ...                        \n",
       "\n",
       "   Location Description_RESIDENCE-GARAGE  \\\n",
       "0                                      0   \n",
       "2                                      0   \n",
       "3                                      0   \n",
       "5                                      0   \n",
       "6                                      0   \n",
       "\n",
       "   Location Description_RESIDENTIAL YARD (FRONT/BACK)  \\\n",
       "0                                                  0    \n",
       "2                                                  0    \n",
       "3                                                  0    \n",
       "5                                                  0    \n",
       "6                                                  0    \n",
       "\n",
       "   Location Description_RESTAURANT  \\\n",
       "0                                0   \n",
       "2                                0   \n",
       "3                                0   \n",
       "5                                0   \n",
       "6                                0   \n",
       "\n",
       "   Location Description_SCHOOL, PUBLIC, BUILDING  \\\n",
       "0                                              0   \n",
       "2                                              0   \n",
       "3                                              0   \n",
       "5                                              0   \n",
       "6                                              0   \n",
       "\n",
       "   Location Description_SCHOOL, PUBLIC, GROUNDS  \\\n",
       "0                                             0   \n",
       "2                                             0   \n",
       "3                                             0   \n",
       "5                                             0   \n",
       "6                                             0   \n",
       "\n",
       "   Location Description_SIDEWALK  Location Description_SMALL RETAIL STORE  \\\n",
       "0                              0                                        0   \n",
       "2                              0                                        0   \n",
       "3                              0                                        0   \n",
       "5                              0                                        0   \n",
       "6                              0                                        0   \n",
       "\n",
       "   Location Description_STREET  Location Description_TAVERN/LIQUOR STORE  \\\n",
       "0                            1                                         0   \n",
       "2                            0                                         0   \n",
       "3                            0                                         0   \n",
       "5                            0                                         0   \n",
       "6                            0                                         0   \n",
       "\n",
       "   Location Description_VEHICLE NON-COMMERCIAL  \n",
       "0                                            0  \n",
       "2                                            0  \n",
       "3                                            0  \n",
       "5                                            0  \n",
       "6                                            0  \n",
       "\n",
       "[5 rows x 32 columns]"
      ]
     },
     "execution_count": 22,
     "metadata": {},
     "output_type": "execute_result"
    }
   ],
   "source": [
    "crimes.head()"
   ]
  },
  {
   "cell_type": "markdown",
   "metadata": {},
   "source": [
    "Split the train and test data."
   ]
  },
  {
   "cell_type": "code",
   "execution_count": 24,
   "metadata": {
    "collapsed": true
   },
   "outputs": [],
   "source": [
    "train=crimes.sample(frac=0.7,random_state=200)\n",
    "test=crimes.drop(train.index)\n",
    "x_train = train.iloc[:,1:34]\n",
    "y_train = train['Theft']\n",
    "\n",
    "x_test = test.iloc[:,1:34]\n",
    "y_test = test['Theft']"
   ]
  },
  {
   "cell_type": "markdown",
   "metadata": {},
   "source": [
    "<h4>Model 1: Random forest</h4>"
   ]
  },
  {
   "cell_type": "code",
   "execution_count": 50,
   "metadata": {},
   "outputs": [
    {
     "name": "stdout",
     "output_type": "stream",
     "text": [
      " mean accuracy: 0.73\n"
     ]
    }
   ],
   "source": [
    "from sklearn.ensemble import RandomForestClassifier\n",
    "rf = RandomForestClassifier()\n",
    "rf=rf.fit(x_train, y_train)\n",
    "print(' mean accuracy: %.2f' % rf.score(x_test, y_test))"
   ]
  },
  {
   "cell_type": "markdown",
   "metadata": {},
   "source": [
    "the feature importances"
   ]
  },
  {
   "cell_type": "code",
   "execution_count": 51,
   "metadata": {},
   "outputs": [
    {
     "data": {
      "text/plain": [
       "[('Latitude', 0.38257203030302955),\n",
       " ('Longitude', 0.3257530046086529),\n",
       " ('Location Description_ALLEY', 0.004707420408142729),\n",
       " ('Location Description_APARTMENT', 0.052847379580709744),\n",
       " ('Location Description_BAR OR TAVERN', 0.001644678604269365),\n",
       " ('Location Description_CHA APARTMENT', 0.005483020506316388),\n",
       " ('Location Description_CHA PARKING LOT/GROUNDS', 0.003644568037147361),\n",
       " ('Location Description_COMMERCIAL / BUSINESS OFFICE', 0.003561744666272968),\n",
       " ('Location Description_CTA BUS', 0.0005727985474944433),\n",
       " ('Location Description_CTA PLATFORM', 0.00031816853220701936),\n",
       " ('Location Description_CTA TRAIN', 0.002014025825213393),\n",
       " ('Location Description_DEPARTMENT STORE', 0.0254057948030403),\n",
       " ('Location Description_DRUG STORE', 0.007604135446771525),\n",
       " ('Location Description_GAS STATION', 0.001951127951699938),\n",
       " ('Location Description_GROCERY FOOD STORE', 0.019676771800223015),\n",
       " ('Location Description_HOSPITAL BUILDING/GROUNDS', 0.0004211092983230186),\n",
       " ('Location Description_HOTEL/MOTEL', 0.00048444622624584663),\n",
       " ('Location Description_PARK PROPERTY', 0.0009118151606339398),\n",
       " ('Location Description_PARKING LOT/GARAGE(NON.RESID.)', 0.014465145871112547),\n",
       " ('Location Description_RESIDENCE', 0.025730489236610154),\n",
       " ('Location Description_RESIDENCE PORCH/HALLWAY', 0.00366360661546357),\n",
       " ('Location Description_RESIDENCE-GARAGE', 0.004205910566887583),\n",
       " ('Location Description_RESIDENTIAL YARD (FRONT/BACK)', 0.0047488015150278454),\n",
       " ('Location Description_RESTAURANT', 0.003250027065742311),\n",
       " ('Location Description_SCHOOL, PUBLIC, BUILDING', 0.0072453754593250295),\n",
       " ('Location Description_SCHOOL, PUBLIC, GROUNDS', 0.0024426512196834586),\n",
       " ('Location Description_SIDEWALK', 0.04966731414080647),\n",
       " ('Location Description_SMALL RETAIL STORE', 0.020895865851627636),\n",
       " ('Location Description_STREET', 0.0189559074864632),\n",
       " ('Location Description_TAVERN/LIQUOR STORE', 0.0005094556209292139),\n",
       " ('Location Description_VEHICLE NON-COMMERCIAL', 0.004645409043927535)]"
      ]
     },
     "execution_count": 51,
     "metadata": {},
     "output_type": "execute_result"
    }
   ],
   "source": [
    "list(zip(x_test, rf.feature_importances_))"
   ]
  },
  {
   "cell_type": "markdown",
   "metadata": {},
   "source": [
    "confusion matrix"
   ]
  },
  {
   "cell_type": "code",
   "execution_count": 52,
   "metadata": {},
   "outputs": [
    {
     "name": "stdout",
     "output_type": "stream",
     "text": [
      "\n",
      "0 is BATTERY and 1 is theft\n",
      "\n",
      "\n",
      "Predicted        0       1\n",
      "Actual                    \n",
      "0           251946   86356\n",
      "1           104228  252319\n"
     ]
    }
   ],
   "source": [
    "preds = rf.predict(x_test)\n",
    "print('\\n0 is BATTERY and 1 is theft\\n\\n')\n",
    "print(pd.crosstab(y_test, preds, rownames=['Actual '], colnames=['Predicted ']))"
   ]
  },
  {
   "cell_type": "markdown",
   "metadata": {},
   "source": [
    "we have 251946+252319 correct predictions and 86356+104228 incorrect predictions."
   ]
  },
  {
   "cell_type": "code",
   "execution_count": 53,
   "metadata": {},
   "outputs": [
    {
     "name": "stdout",
     "output_type": "stream",
     "text": [
      "             precision    recall  f1-score   support\n",
      "\n",
      "          0       0.71      0.74      0.73    338302\n",
      "          1       0.75      0.71      0.73    356547\n",
      "\n",
      "avg / total       0.73      0.73      0.73    694849\n",
      "\n"
     ]
    }
   ],
   "source": [
    "from sklearn.metrics import classification_report\n",
    "print(classification_report(y_test, preds))"
   ]
  },
  {
   "cell_type": "code",
   "execution_count": 55,
   "metadata": {},
   "outputs": [
    {
     "data": {
      "image/png": "[encoded data removed]",
      "text/plain": [
       "<matplotlib.figure.Figure at 0x1dcc2584940>"
      ]
     },
     "metadata": {},
     "output_type": "display_data"
    }
   ],
   "source": [
    "from sklearn.metrics import roc_auc_score\n",
    "from sklearn.metrics import roc_curve\n",
    "random_roc_auc = roc_auc_score(y_test, rf.predict(x_test))\n",
    "random_fpr, random_tpr, random_thresholds = roc_curve(y_test, rf.predict_proba(x_test)[:,1])\n",
    "plt.figure()\n",
    "plt.plot(random_fpr, random_tpr, label='Random forest (area = %0.2f)' % random_roc_auc)\n",
    "plt.plot([0, 1], [0, 1],'r--')\n",
    "plt.xlim([0.0, 1.0])\n",
    "plt.ylim([0.0, 1.05])\n",
    "plt.xlabel('False Positive Rate')\n",
    "plt.ylabel('True Positive Rate')\n",
    "plt.title('Receiver operating characteristic')\n",
    "plt.legend(loc=\"lower right\")\n",
    "plt.savefig('Log_ROC')\n",
    "plt.show()"
   ]
  },
  {
   "cell_type": "markdown",
   "metadata": {},
   "source": [
    "<h4>Model 2: Logistic regression</h4>"
   ]
  },
  {
   "cell_type": "code",
   "execution_count": 42,
   "metadata": {},
   "outputs": [
    {
     "name": "stdout",
     "output_type": "stream",
     "text": [
      "Accuracy of logistic regression classifier on test set: 0.72\n"
     ]
    }
   ],
   "source": [
    "from sklearn.linear_model import LogisticRegression\n",
    "lr =LogisticRegression()\n",
    "lr = lr.fit(x_train, y_train)\n",
    "y_pred = lr.predict(x_test)\n",
    "print('Accuracy of logistic regression classifier on test set: {:.2f}'.format(lr.score(x_test, y_test)))"
   ]
  },
  {
   "cell_type": "code",
   "execution_count": 43,
   "metadata": {},
   "outputs": [
    {
     "name": "stdout",
     "output_type": "stream",
     "text": [
      "10-fold cross validation average accuracy: 0.725\n"
     ]
    }
   ],
   "source": [
    "from sklearn import model_selection\n",
    "from sklearn.model_selection import cross_val_score\n",
    "kfold = model_selection.KFold(n_splits=10, random_state=7)\n",
    "modelCV = LogisticRegression()\n",
    "scoring = 'accuracy'\n",
    "results = model_selection.cross_val_score(modelCV, x_train, y_train, cv=kfold, scoring=scoring)\n",
    "print(\"10-fold cross validation average accuracy: %.3f\" % (results.mean()))"
   ]
  },
  {
   "cell_type": "markdown",
   "metadata": {},
   "source": [
    "The average accuracy remains very close to the Logistic Regression model accuracy; hence, we can conclude that our model generalizes well."
   ]
  },
  {
   "cell_type": "markdown",
   "metadata": {},
   "source": [
    "confusion matrix"
   ]
  },
  {
   "cell_type": "code",
   "execution_count": 44,
   "metadata": {},
   "outputs": [
    {
     "name": "stdout",
     "output_type": "stream",
     "text": [
      "\n",
      "0 is BATTERY and 1 is theft\n",
      "\n",
      "\n",
      "Predicted        0       1\n",
      "Actual                    \n",
      "0           242271   96031\n",
      "1            95471  261076\n"
     ]
    }
   ],
   "source": [
    "print('\\n0 is BATTERY and 1 is theft\\n\\n')\n",
    "print(pd.crosstab(y_test, y_pred, rownames=['Actual '], colnames=['Predicted ']))"
   ]
  },
  {
   "cell_type": "markdown",
   "metadata": {},
   "source": [
    "we have 272271+261076 correct predictions and 95471+96031 incorrect predictions."
   ]
  },
  {
   "cell_type": "code",
   "execution_count": 45,
   "metadata": {},
   "outputs": [
    {
     "name": "stdout",
     "output_type": "stream",
     "text": [
      "             precision    recall  f1-score   support\n",
      "\n",
      "          0       0.72      0.72      0.72    338302\n",
      "          1       0.73      0.73      0.73    356547\n",
      "\n",
      "avg / total       0.72      0.72      0.72    694849\n",
      "\n"
     ]
    }
   ],
   "source": [
    "from sklearn.metrics import classification_report\n",
    "print(classification_report(y_test, y_pred))"
   ]
  },
  {
   "cell_type": "code",
   "execution_count": 56,
   "metadata": {},
   "outputs": [
    {
     "data": {
      "image/png": "[encoded data removed]",
      "text/plain": [
       "<matplotlib.figure.Figure at 0x1dcf5fc57b8>"
      ]
     },
     "metadata": {},
     "output_type": "display_data"
    }
   ],
   "source": [
    "from sklearn.metrics import roc_auc_score\n",
    "from sklearn.metrics import roc_curve\n",
    "logit_roc_auc = roc_auc_score(y_test, lr.predict(x_test))\n",
    "logit_fpr, logit_tpr, logit_thresholds = roc_curve(y_test, lr.predict_proba(x_test)[:,1])\n",
    "plt.figure()\n",
    "plt.plot(logit_fpr, logit_tpr, label='Logistic Regression (area = %0.2f)' % logit_roc_auc)\n",
    "plt.plot([0, 1], [0, 1],'r--')\n",
    "plt.xlim([0.0, 1.0])\n",
    "plt.ylim([0.0, 1.05])\n",
    "plt.xlabel('False Positive Rate')\n",
    "plt.ylabel('True Positive Rate')\n",
    "plt.title('Receiver operating characteristic')\n",
    "plt.legend(loc=\"lower right\")\n",
    "plt.savefig('Log_ROC')\n",
    "plt.show()"
   ]
  },
  {
   "cell_type": "markdown",
   "metadata": {},
   "source": [
    "<h4>Model 3: Naïve Bayes</h4>"
   ]
  },
  {
   "cell_type": "code",
   "execution_count": 67,
   "metadata": {},
   "outputs": [
    {
     "name": "stdout",
     "output_type": "stream",
     "text": [
      "Accuracy of logistic regression classifier on test set: 0.65\n"
     ]
    }
   ],
   "source": [
    "from sklearn.naive_bayes import GaussianNB\n",
    "clf = GaussianNB()\n",
    "clf=clf.fit(x_train, y_train)\n",
    "pred = clf.predict(x_test)\n",
    "pred_p=clf.predict_proba(x_test)\n",
    "print('Accuracy of logistic regression classifier on test set: {:.2f}'.format(clf.score(x_test, y_test)))"
   ]
  },
  {
   "cell_type": "markdown",
   "metadata": {},
   "source": [
    "confusion matrix"
   ]
  },
  {
   "cell_type": "code",
   "execution_count": 68,
   "metadata": {},
   "outputs": [
    {
     "name": "stdout",
     "output_type": "stream",
     "text": [
      "\n",
      "0 is BATTERY and 1 is theft\n",
      "\n",
      "\n",
      "Predicted        0       1\n",
      "Actual                    \n",
      "0           310187   28115\n",
      "1           215392  141155\n"
     ]
    }
   ],
   "source": [
    "clf = clf.predict(x_test)\n",
    "print('\\n0 is BATTERY and 1 is theft\\n\\n')\n",
    "print(pd.crosstab(y_test, pred, rownames=['Actual '], colnames=['Predicted ']))"
   ]
  },
  {
   "cell_type": "markdown",
   "metadata": {},
   "source": [
    "we have 310187+141155 correct predictions and 215392+28115 incorrect predictions."
   ]
  },
  {
   "cell_type": "code",
   "execution_count": 69,
   "metadata": {},
   "outputs": [
    {
     "name": "stdout",
     "output_type": "stream",
     "text": [
      "             precision    recall  f1-score   support\n",
      "\n",
      "          0       0.59      0.92      0.72    338302\n",
      "          1       0.83      0.40      0.54    356547\n",
      "\n",
      "avg / total       0.72      0.65      0.63    694849\n",
      "\n"
     ]
    }
   ],
   "source": [
    "from sklearn.metrics import classification_report\n",
    "print(classification_report(y_test, pred))"
   ]
  },
  {
   "cell_type": "code",
   "execution_count": 71,
   "metadata": {},
   "outputs": [
    {
     "data": {
      "image/png": "[encoded data removed]",
      "text/plain": [
       "<matplotlib.figure.Figure at 0x1dce919b860>"
      ]
     },
     "metadata": {},
     "output_type": "display_data"
    }
   ],
   "source": [
    "from sklearn.metrics import roc_auc_score\n",
    "from sklearn.metrics import roc_curve\n",
    "GaussianNB_roc_auc = roc_auc_score(y_test, pred)\n",
    "GaussianNB_fpr, GaussianNB_tpr, GaussianNB_thresholds = roc_curve(y_test, pred_p[:,1])\n",
    "plt.figure()\n",
    "plt.plot(GaussianNB_fpr, GaussianNB_tpr, label='Naïve Bayes (area = %0.2f)' % GaussianNB_roc_auc)\n",
    "plt.plot([0, 1], [0, 1],'r--')\n",
    "plt.xlim([0.0, 1.0])\n",
    "plt.ylim([0.0, 1.05])\n",
    "plt.xlabel('False Positive Rate')\n",
    "plt.ylabel('True Positive Rate')\n",
    "plt.title('Receiver operating characteristic')\n",
    "plt.legend(loc=\"lower right\")\n",
    "plt.savefig('Log_ROC')\n",
    "plt.show()"
   ]
  },
  {
   "cell_type": "markdown",
   "metadata": {},
   "source": [
    "<font >\n",
    "<h4 align=\"center\">\n",
    "Conclusions</h4>\n",
    "</font>"
   ]
  },
  {
   "cell_type": "markdown",
   "metadata": {},
   "source": [
    "<h4>ROC for all three models</h4>"
   ]
  },
  {
   "cell_type": "code",
   "execution_count": 72,
   "metadata": {},
   "outputs": [
    {
     "data": {
      "image/png": "[encoded data removed]",
      "text/plain": [
       "<matplotlib.figure.Figure at 0x1dcd79d20f0>"
      ]
     },
     "metadata": {},
     "output_type": "display_data"
    }
   ],
   "source": [
    "plt.figure()\n",
    "plt.plot(random_fpr, random_tpr, label='Random forest (area = %0.2f)' % random_roc_auc)\n",
    "plt.plot(logit_fpr, logit_tpr, label='Logistic Regression (area = %0.2f)' % logit_roc_auc)\n",
    "plt.plot(GaussianNB_fpr, GaussianNB_tpr, label='Naïve Bayes (area = %0.2f)' % GaussianNB_roc_auc)\n",
    "plt.plot([0, 1], [0, 1],'r--')\n",
    "plt.xlim([0.0, 1.0])\n",
    "plt.ylim([0.0, 1.05])\n",
    "plt.xlabel('False Positive Rate')\n",
    "plt.ylabel('True Positive Rate')\n",
    "plt.title('Receiver operating characteristic for all three models')\n",
    "plt.legend(loc=\"lower right\")\n",
    "plt.savefig('Log_ROC')\n",
    "plt.show()"
   ]
  },
  {
   "cell_type": "markdown",
   "metadata": {},
   "source": [
    "<h4>Summary</h4>"
   ]
  },
  {
   "cell_type": "markdown",
   "metadata": {},
   "source": [
    "We can see that the most important features determining whether a crime is theft or not are all indicator variables describing the exact location of the crime (for example if it happened in a department store or apartment, it's will be things like theft). These are consistent with what we predict"
   ]
  },
  {
   "cell_type": "markdown",
   "metadata": {},
   "source": [
    "For this study, I only use the Top two crime types(theft and battery). In this case, our classifier based on logistic regression and Random forest can reach an accuracy closed to 75%. The classifier based on Naïve Bayes can reach an accuracy closed to 66%."
   ]
  },
  {
   "cell_type": "code",
   "execution_count": null,
   "metadata": {
    "collapsed": true
   },
   "outputs": [],
   "source": []
  }
 ],
 "metadata": {
  "kernelspec": {
   "display_name": "Python 3",
   "language": "python",
   "name": "python3"
  },
  "language_info": {
   "codemirror_mode": {
    "name": "ipython",
    "version": 3
   },
   "file_extension": ".py",
   "mimetype": "text/x-python",
   "name": "python",
   "nbconvert_exporter": "python",
   "pygments_lexer": "ipython3",
   "version": "3.6.3"
  }
 },
 "nbformat": 4,
 "nbformat_minor": 2
}
